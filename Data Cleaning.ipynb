{
 "cells": [
  {
   "cell_type": "code",
   "execution_count": 1,
   "metadata": {},
   "outputs": [],
   "source": [
    "import pandas as pd\n",
    "from datetime import datetime"
   ]
  },
  {
   "cell_type": "code",
   "execution_count": 2,
   "metadata": {},
   "outputs": [
    {
     "name": "stdout",
     "output_type": "stream",
     "text": [
      "2018 scraped\n",
      "2019 scraped\n",
      "no playoffs available yet\n",
      "2020 scraped\n"
     ]
    }
   ],
   "source": [
    "df_lists = pd.DataFrame()\n",
    "start_year= 2018\n",
    "end_year = 2020\n",
    "\n",
    "#scrapes data from hockeyreference.com\n",
    "for year in range (start_year,end_year+1):\n",
    "    k=1\n",
    "\n",
    "    # 2005 was the lockout so there is no data to be scraped\n",
    "    if year == 2005:\n",
    "        print(\"2005 was the lockout\")\n",
    "\n",
    "    else:\n",
    "        url = r'https://www.hockey-reference.com/leagues/NHL_' + str(year) + r'_games.html' \n",
    "\n",
    "        df_temp_reg = pd.DataFrame(pd.read_html(url)[0])\n",
    "        df_temp_reg['season'] = year\n",
    "\n",
    "    # use commented out code if playoff data is desired\n",
    "\n",
    "        try:\n",
    "            df_temp_post = pd.DataFrame(pd.read_html(url)[1])\n",
    "            df_temp_post['season'] = year\n",
    "\n",
    "        except IndexError as e:\n",
    "            k = 0\n",
    "            print('no playoffs available yet')\n",
    "        \n",
    "        print (str(year) + \" scraped\")\n",
    "\n",
    "    df_lists = df_lists.append(df_temp_reg)\n",
    "\n",
    "    if k == 1:\n",
    "        df_lists.append(df_temp_post)"
   ]
  },
  {
   "cell_type": "code",
   "execution_count": 3,
   "metadata": {},
   "outputs": [
    {
     "data": {
      "text/plain": [
       "Index(['Date', 'Visitor', 'G', 'Home', 'G.1', 'Unnamed: 5', 'Att.', 'LOG',\n",
       "       'Notes', 'season'],\n",
       "      dtype='object')"
      ]
     },
     "execution_count": 3,
     "metadata": {},
     "output_type": "execute_result"
    }
   ],
   "source": [
    "df_lists.columns"
   ]
  },
  {
   "cell_type": "code",
   "execution_count": 4,
   "metadata": {},
   "outputs": [
    {
     "data": {
      "text/html": [
       "<div>\n",
       "<style scoped>\n",
       "    .dataframe tbody tr th:only-of-type {\n",
       "        vertical-align: middle;\n",
       "    }\n",
       "\n",
       "    .dataframe tbody tr th {\n",
       "        vertical-align: top;\n",
       "    }\n",
       "\n",
       "    .dataframe thead th {\n",
       "        text-align: right;\n",
       "    }\n",
       "</style>\n",
       "<table border=\"1\" class=\"dataframe\">\n",
       "  <thead>\n",
       "    <tr style=\"text-align: right;\">\n",
       "      <th></th>\n",
       "      <th>Date</th>\n",
       "      <th>Visitor</th>\n",
       "      <th>G</th>\n",
       "      <th>Home</th>\n",
       "      <th>G.1</th>\n",
       "      <th>Unnamed: 5</th>\n",
       "      <th>Att.</th>\n",
       "      <th>LOG</th>\n",
       "      <th>Notes</th>\n",
       "      <th>season</th>\n",
       "    </tr>\n",
       "  </thead>\n",
       "  <tbody>\n",
       "    <tr>\n",
       "      <th>1266</th>\n",
       "      <td>2020-04-04</td>\n",
       "      <td>Chicago Blackhawks</td>\n",
       "      <td>NaN</td>\n",
       "      <td>New York Rangers</td>\n",
       "      <td>NaN</td>\n",
       "      <td>NaN</td>\n",
       "      <td>NaN</td>\n",
       "      <td>NaN</td>\n",
       "      <td>NaN</td>\n",
       "      <td>2020</td>\n",
       "    </tr>\n",
       "    <tr>\n",
       "      <th>1267</th>\n",
       "      <td>2020-04-04</td>\n",
       "      <td>Pittsburgh Penguins</td>\n",
       "      <td>NaN</td>\n",
       "      <td>Ottawa Senators</td>\n",
       "      <td>NaN</td>\n",
       "      <td>NaN</td>\n",
       "      <td>NaN</td>\n",
       "      <td>NaN</td>\n",
       "      <td>NaN</td>\n",
       "      <td>2020</td>\n",
       "    </tr>\n",
       "    <tr>\n",
       "      <th>1268</th>\n",
       "      <td>2020-04-04</td>\n",
       "      <td>Anaheim Ducks</td>\n",
       "      <td>NaN</td>\n",
       "      <td>San Jose Sharks</td>\n",
       "      <td>NaN</td>\n",
       "      <td>NaN</td>\n",
       "      <td>NaN</td>\n",
       "      <td>NaN</td>\n",
       "      <td>NaN</td>\n",
       "      <td>2020</td>\n",
       "    </tr>\n",
       "    <tr>\n",
       "      <th>1269</th>\n",
       "      <td>2020-04-04</td>\n",
       "      <td>Montreal Canadiens</td>\n",
       "      <td>NaN</td>\n",
       "      <td>Toronto Maple Leafs</td>\n",
       "      <td>NaN</td>\n",
       "      <td>NaN</td>\n",
       "      <td>NaN</td>\n",
       "      <td>NaN</td>\n",
       "      <td>NaN</td>\n",
       "      <td>2020</td>\n",
       "    </tr>\n",
       "    <tr>\n",
       "      <th>1270</th>\n",
       "      <td>2020-04-04</td>\n",
       "      <td>Vegas Golden Knights</td>\n",
       "      <td>NaN</td>\n",
       "      <td>Vancouver Canucks</td>\n",
       "      <td>NaN</td>\n",
       "      <td>NaN</td>\n",
       "      <td>NaN</td>\n",
       "      <td>NaN</td>\n",
       "      <td>NaN</td>\n",
       "      <td>2020</td>\n",
       "    </tr>\n",
       "  </tbody>\n",
       "</table>\n",
       "</div>"
      ],
      "text/plain": [
       "            Date               Visitor   G                 Home  G.1  \\\n",
       "1266  2020-04-04    Chicago Blackhawks NaN     New York Rangers  NaN   \n",
       "1267  2020-04-04   Pittsburgh Penguins NaN      Ottawa Senators  NaN   \n",
       "1268  2020-04-04         Anaheim Ducks NaN      San Jose Sharks  NaN   \n",
       "1269  2020-04-04    Montreal Canadiens NaN  Toronto Maple Leafs  NaN   \n",
       "1270  2020-04-04  Vegas Golden Knights NaN    Vancouver Canucks  NaN   \n",
       "\n",
       "     Unnamed: 5  Att.  LOG  Notes  season  \n",
       "1266        NaN   NaN  NaN    NaN    2020  \n",
       "1267        NaN   NaN  NaN    NaN    2020  \n",
       "1268        NaN   NaN  NaN    NaN    2020  \n",
       "1269        NaN   NaN  NaN    NaN    2020  \n",
       "1270        NaN   NaN  NaN    NaN    2020  "
      ]
     },
     "execution_count": 4,
     "metadata": {},
     "output_type": "execute_result"
    }
   ],
   "source": [
    "df_lists.tail()"
   ]
  },
  {
   "cell_type": "code",
   "execution_count": 5,
   "metadata": {},
   "outputs": [
    {
     "data": {
      "text/plain": [
       "(3813, 10)"
      ]
     },
     "execution_count": 5,
     "metadata": {},
     "output_type": "execute_result"
    }
   ],
   "source": [
    "df_lists.shape"
   ]
  },
  {
   "cell_type": "code",
   "execution_count": 6,
   "metadata": {},
   "outputs": [
    {
     "data": {
      "text/plain": [
       "array(['Edmonton Oilers', 'Pittsburgh Penguins', 'San Jose Sharks',\n",
       "       'Winnipeg Jets', 'Anaheim Ducks', 'Boston Bruins',\n",
       "       'Buffalo Sabres', 'Chicago Blackhawks', 'Detroit Red Wings',\n",
       "       'Los Angeles Kings', 'New York Rangers', 'Ottawa Senators',\n",
       "       'Columbus Blue Jackets', 'Dallas Stars', 'Tampa Bay Lightning',\n",
       "       'Arizona Coyotes', 'Carolina Hurricanes', 'Calgary Flames',\n",
       "       'Florida Panthers', 'New Jersey Devils', 'New York Islanders',\n",
       "       'St. Louis Blues', 'Toronto Maple Leafs', 'Vancouver Canucks',\n",
       "       'Washington Capitals', 'Montreal Canadiens', 'Nashville Predators',\n",
       "       'Vegas Golden Knights', 'Colorado Avalanche', 'Minnesota Wild',\n",
       "       'Philadelphia Flyers'], dtype=object)"
      ]
     },
     "execution_count": 6,
     "metadata": {},
     "output_type": "execute_result"
    }
   ],
   "source": [
    "df_lists['Home'].unique()"
   ]
  },
  {
   "cell_type": "code",
   "execution_count": 7,
   "metadata": {},
   "outputs": [
    {
     "data": {
      "text/html": [
       "<div>\n",
       "<style scoped>\n",
       "    .dataframe tbody tr th:only-of-type {\n",
       "        vertical-align: middle;\n",
       "    }\n",
       "\n",
       "    .dataframe tbody tr th {\n",
       "        vertical-align: top;\n",
       "    }\n",
       "\n",
       "    .dataframe thead th {\n",
       "        text-align: right;\n",
       "    }\n",
       "</style>\n",
       "<table border=\"1\" class=\"dataframe\">\n",
       "  <thead>\n",
       "    <tr style=\"text-align: right;\">\n",
       "      <th></th>\n",
       "      <th>Date</th>\n",
       "      <th>Visitor</th>\n",
       "      <th>G</th>\n",
       "      <th>Home</th>\n",
       "      <th>G.1</th>\n",
       "      <th>Unnamed: 5</th>\n",
       "      <th>Att.</th>\n",
       "      <th>LOG</th>\n",
       "      <th>Notes</th>\n",
       "      <th>season</th>\n",
       "    </tr>\n",
       "  </thead>\n",
       "  <tbody>\n",
       "    <tr>\n",
       "      <th>0</th>\n",
       "      <td>2017-10-04</td>\n",
       "      <td>Calgary Flames</td>\n",
       "      <td>0.0</td>\n",
       "      <td>Edmonton Oilers</td>\n",
       "      <td>3.0</td>\n",
       "      <td>NaN</td>\n",
       "      <td>18347.0</td>\n",
       "      <td>2:34</td>\n",
       "      <td>NaN</td>\n",
       "      <td>2018</td>\n",
       "    </tr>\n",
       "    <tr>\n",
       "      <th>1</th>\n",
       "      <td>2017-10-04</td>\n",
       "      <td>St. Louis Blues</td>\n",
       "      <td>5.0</td>\n",
       "      <td>Pittsburgh Penguins</td>\n",
       "      <td>4.0</td>\n",
       "      <td>OT</td>\n",
       "      <td>18652.0</td>\n",
       "      <td>2:38</td>\n",
       "      <td>NaN</td>\n",
       "      <td>2018</td>\n",
       "    </tr>\n",
       "    <tr>\n",
       "      <th>2</th>\n",
       "      <td>2017-10-04</td>\n",
       "      <td>Philadelphia Flyers</td>\n",
       "      <td>5.0</td>\n",
       "      <td>San Jose Sharks</td>\n",
       "      <td>3.0</td>\n",
       "      <td>NaN</td>\n",
       "      <td>17562.0</td>\n",
       "      <td>2:27</td>\n",
       "      <td>NaN</td>\n",
       "      <td>2018</td>\n",
       "    </tr>\n",
       "    <tr>\n",
       "      <th>3</th>\n",
       "      <td>2017-10-04</td>\n",
       "      <td>Toronto Maple Leafs</td>\n",
       "      <td>7.0</td>\n",
       "      <td>Winnipeg Jets</td>\n",
       "      <td>2.0</td>\n",
       "      <td>NaN</td>\n",
       "      <td>15321.0</td>\n",
       "      <td>2:33</td>\n",
       "      <td>NaN</td>\n",
       "      <td>2018</td>\n",
       "    </tr>\n",
       "    <tr>\n",
       "      <th>4</th>\n",
       "      <td>2017-10-05</td>\n",
       "      <td>Arizona Coyotes</td>\n",
       "      <td>4.0</td>\n",
       "      <td>Anaheim Ducks</td>\n",
       "      <td>5.0</td>\n",
       "      <td>NaN</td>\n",
       "      <td>17174.0</td>\n",
       "      <td>2:38</td>\n",
       "      <td>NaN</td>\n",
       "      <td>2018</td>\n",
       "    </tr>\n",
       "  </tbody>\n",
       "</table>\n",
       "</div>"
      ],
      "text/plain": [
       "         Date              Visitor    G                 Home  G.1 Unnamed: 5  \\\n",
       "0  2017-10-04       Calgary Flames  0.0      Edmonton Oilers  3.0        NaN   \n",
       "1  2017-10-04      St. Louis Blues  5.0  Pittsburgh Penguins  4.0         OT   \n",
       "2  2017-10-04  Philadelphia Flyers  5.0      San Jose Sharks  3.0        NaN   \n",
       "3  2017-10-04  Toronto Maple Leafs  7.0        Winnipeg Jets  2.0        NaN   \n",
       "4  2017-10-05      Arizona Coyotes  4.0        Anaheim Ducks  5.0        NaN   \n",
       "\n",
       "      Att.   LOG  Notes  season  \n",
       "0  18347.0  2:34    NaN    2018  \n",
       "1  18652.0  2:38    NaN    2018  \n",
       "2  17562.0  2:27    NaN    2018  \n",
       "3  15321.0  2:33    NaN    2018  \n",
       "4  17174.0  2:38    NaN    2018  "
      ]
     },
     "execution_count": 7,
     "metadata": {},
     "output_type": "execute_result"
    }
   ],
   "source": [
    "df_lists.head()"
   ]
  },
  {
   "cell_type": "code",
   "execution_count": 8,
   "metadata": {},
   "outputs": [
    {
     "data": {
      "text/html": [
       "<div>\n",
       "<style scoped>\n",
       "    .dataframe tbody tr th:only-of-type {\n",
       "        vertical-align: middle;\n",
       "    }\n",
       "\n",
       "    .dataframe tbody tr th {\n",
       "        vertical-align: top;\n",
       "    }\n",
       "\n",
       "    .dataframe thead th {\n",
       "        text-align: right;\n",
       "    }\n",
       "</style>\n",
       "<table border=\"1\" class=\"dataframe\">\n",
       "  <thead>\n",
       "    <tr style=\"text-align: right;\">\n",
       "      <th></th>\n",
       "      <th>Date</th>\n",
       "      <th>Visitor</th>\n",
       "      <th>VisitingGoals</th>\n",
       "      <th>Home</th>\n",
       "      <th>HomeGoals</th>\n",
       "      <th>OTSO</th>\n",
       "      <th>Att.</th>\n",
       "      <th>LOG</th>\n",
       "      <th>Notes</th>\n",
       "      <th>season</th>\n",
       "    </tr>\n",
       "  </thead>\n",
       "  <tbody>\n",
       "    <tr>\n",
       "      <th>0</th>\n",
       "      <td>2017-10-04</td>\n",
       "      <td>Calgary Flames</td>\n",
       "      <td>0.0</td>\n",
       "      <td>Edmonton Oilers</td>\n",
       "      <td>3.0</td>\n",
       "      <td>NaN</td>\n",
       "      <td>18347.0</td>\n",
       "      <td>2:34</td>\n",
       "      <td>NaN</td>\n",
       "      <td>2018</td>\n",
       "    </tr>\n",
       "    <tr>\n",
       "      <th>1</th>\n",
       "      <td>2017-10-04</td>\n",
       "      <td>St. Louis Blues</td>\n",
       "      <td>5.0</td>\n",
       "      <td>Pittsburgh Penguins</td>\n",
       "      <td>4.0</td>\n",
       "      <td>OT</td>\n",
       "      <td>18652.0</td>\n",
       "      <td>2:38</td>\n",
       "      <td>NaN</td>\n",
       "      <td>2018</td>\n",
       "    </tr>\n",
       "    <tr>\n",
       "      <th>2</th>\n",
       "      <td>2017-10-04</td>\n",
       "      <td>Philadelphia Flyers</td>\n",
       "      <td>5.0</td>\n",
       "      <td>San Jose Sharks</td>\n",
       "      <td>3.0</td>\n",
       "      <td>NaN</td>\n",
       "      <td>17562.0</td>\n",
       "      <td>2:27</td>\n",
       "      <td>NaN</td>\n",
       "      <td>2018</td>\n",
       "    </tr>\n",
       "    <tr>\n",
       "      <th>3</th>\n",
       "      <td>2017-10-04</td>\n",
       "      <td>Toronto Maple Leafs</td>\n",
       "      <td>7.0</td>\n",
       "      <td>Winnipeg Jets</td>\n",
       "      <td>2.0</td>\n",
       "      <td>NaN</td>\n",
       "      <td>15321.0</td>\n",
       "      <td>2:33</td>\n",
       "      <td>NaN</td>\n",
       "      <td>2018</td>\n",
       "    </tr>\n",
       "    <tr>\n",
       "      <th>4</th>\n",
       "      <td>2017-10-05</td>\n",
       "      <td>Arizona Coyotes</td>\n",
       "      <td>4.0</td>\n",
       "      <td>Anaheim Ducks</td>\n",
       "      <td>5.0</td>\n",
       "      <td>NaN</td>\n",
       "      <td>17174.0</td>\n",
       "      <td>2:38</td>\n",
       "      <td>NaN</td>\n",
       "      <td>2018</td>\n",
       "    </tr>\n",
       "  </tbody>\n",
       "</table>\n",
       "</div>"
      ],
      "text/plain": [
       "         Date              Visitor  VisitingGoals                 Home  \\\n",
       "0  2017-10-04       Calgary Flames            0.0      Edmonton Oilers   \n",
       "1  2017-10-04      St. Louis Blues            5.0  Pittsburgh Penguins   \n",
       "2  2017-10-04  Philadelphia Flyers            5.0      San Jose Sharks   \n",
       "3  2017-10-04  Toronto Maple Leafs            7.0        Winnipeg Jets   \n",
       "4  2017-10-05      Arizona Coyotes            4.0        Anaheim Ducks   \n",
       "\n",
       "   HomeGoals OTSO     Att.   LOG  Notes  season  \n",
       "0        3.0  NaN  18347.0  2:34    NaN    2018  \n",
       "1        4.0   OT  18652.0  2:38    NaN    2018  \n",
       "2        3.0  NaN  17562.0  2:27    NaN    2018  \n",
       "3        2.0  NaN  15321.0  2:33    NaN    2018  \n",
       "4        5.0  NaN  17174.0  2:38    NaN    2018  "
      ]
     },
     "execution_count": 8,
     "metadata": {},
     "output_type": "execute_result"
    }
   ],
   "source": [
    "df_lists.rename(columns={'G':'VisitingGoals',\n",
    "                       'G.1':'HomeGoals',\n",
    "                       'Unnamed: 5':'OTSO',\n",
    "                       }, inplace = True)\n",
    "df_lists.head()"
   ]
  },
  {
   "cell_type": "code",
   "execution_count": 9,
   "metadata": {},
   "outputs": [
    {
     "data": {
      "text/plain": [
       "Date              object\n",
       "Visitor           object\n",
       "VisitingGoals    float64\n",
       "Home              object\n",
       "HomeGoals        float64\n",
       "OTSO              object\n",
       "Att.             float64\n",
       "LOG               object\n",
       "Notes            float64\n",
       "season             int64\n",
       "dtype: object"
      ]
     },
     "execution_count": 9,
     "metadata": {},
     "output_type": "execute_result"
    }
   ],
   "source": [
    "df_lists.dtypes"
   ]
  },
  {
   "cell_type": "code",
   "execution_count": 10,
   "metadata": {},
   "outputs": [],
   "source": [
    "df_lists.drop(['Att.','LOG','Notes'], axis = 1, inplace=True)"
   ]
  },
  {
   "cell_type": "code",
   "execution_count": 11,
   "metadata": {},
   "outputs": [
    {
     "data": {
      "text/html": [
       "<div>\n",
       "<style scoped>\n",
       "    .dataframe tbody tr th:only-of-type {\n",
       "        vertical-align: middle;\n",
       "    }\n",
       "\n",
       "    .dataframe tbody tr th {\n",
       "        vertical-align: top;\n",
       "    }\n",
       "\n",
       "    .dataframe thead th {\n",
       "        text-align: right;\n",
       "    }\n",
       "</style>\n",
       "<table border=\"1\" class=\"dataframe\">\n",
       "  <thead>\n",
       "    <tr style=\"text-align: right;\">\n",
       "      <th></th>\n",
       "      <th>Date</th>\n",
       "      <th>Visitor</th>\n",
       "      <th>VisitingGoals</th>\n",
       "      <th>Home</th>\n",
       "      <th>HomeGoals</th>\n",
       "      <th>OTSO</th>\n",
       "      <th>season</th>\n",
       "    </tr>\n",
       "  </thead>\n",
       "  <tbody>\n",
       "    <tr>\n",
       "      <th>0</th>\n",
       "      <td>2017-10-04</td>\n",
       "      <td>Calgary Flames</td>\n",
       "      <td>0.0</td>\n",
       "      <td>Edmonton Oilers</td>\n",
       "      <td>3.0</td>\n",
       "      <td>NaN</td>\n",
       "      <td>2018</td>\n",
       "    </tr>\n",
       "    <tr>\n",
       "      <th>1</th>\n",
       "      <td>2017-10-04</td>\n",
       "      <td>St. Louis Blues</td>\n",
       "      <td>5.0</td>\n",
       "      <td>Pittsburgh Penguins</td>\n",
       "      <td>4.0</td>\n",
       "      <td>OT</td>\n",
       "      <td>2018</td>\n",
       "    </tr>\n",
       "    <tr>\n",
       "      <th>2</th>\n",
       "      <td>2017-10-04</td>\n",
       "      <td>Philadelphia Flyers</td>\n",
       "      <td>5.0</td>\n",
       "      <td>San Jose Sharks</td>\n",
       "      <td>3.0</td>\n",
       "      <td>NaN</td>\n",
       "      <td>2018</td>\n",
       "    </tr>\n",
       "    <tr>\n",
       "      <th>3</th>\n",
       "      <td>2017-10-04</td>\n",
       "      <td>Toronto Maple Leafs</td>\n",
       "      <td>7.0</td>\n",
       "      <td>Winnipeg Jets</td>\n",
       "      <td>2.0</td>\n",
       "      <td>NaN</td>\n",
       "      <td>2018</td>\n",
       "    </tr>\n",
       "    <tr>\n",
       "      <th>4</th>\n",
       "      <td>2017-10-05</td>\n",
       "      <td>Arizona Coyotes</td>\n",
       "      <td>4.0</td>\n",
       "      <td>Anaheim Ducks</td>\n",
       "      <td>5.0</td>\n",
       "      <td>NaN</td>\n",
       "      <td>2018</td>\n",
       "    </tr>\n",
       "  </tbody>\n",
       "</table>\n",
       "</div>"
      ],
      "text/plain": [
       "         Date              Visitor  VisitingGoals                 Home  \\\n",
       "0  2017-10-04       Calgary Flames            0.0      Edmonton Oilers   \n",
       "1  2017-10-04      St. Louis Blues            5.0  Pittsburgh Penguins   \n",
       "2  2017-10-04  Philadelphia Flyers            5.0      San Jose Sharks   \n",
       "3  2017-10-04  Toronto Maple Leafs            7.0        Winnipeg Jets   \n",
       "4  2017-10-05      Arizona Coyotes            4.0        Anaheim Ducks   \n",
       "\n",
       "   HomeGoals OTSO  season  \n",
       "0        3.0  NaN    2018  \n",
       "1        4.0   OT    2018  \n",
       "2        3.0  NaN    2018  \n",
       "3        2.0  NaN    2018  \n",
       "4        5.0  NaN    2018  "
      ]
     },
     "execution_count": 11,
     "metadata": {},
     "output_type": "execute_result"
    }
   ],
   "source": [
    "df_lists.head()"
   ]
  },
  {
   "cell_type": "code",
   "execution_count": 12,
   "metadata": {},
   "outputs": [
    {
     "data": {
      "text/plain": [
       "Date              object\n",
       "Visitor           object\n",
       "VisitingGoals    float64\n",
       "Home              object\n",
       "HomeGoals        float64\n",
       "OTSO              object\n",
       "season             int64\n",
       "dtype: object"
      ]
     },
     "execution_count": 12,
     "metadata": {},
     "output_type": "execute_result"
    }
   ],
   "source": [
    "df_lists.dtypes"
   ]
  },
  {
   "cell_type": "code",
   "execution_count": 16,
   "metadata": {},
   "outputs": [],
   "source": [
    "df_lists.loc[:,'Date'] = pd.to_datetime(df_lists['Date'])"
   ]
  },
  {
   "cell_type": "code",
   "execution_count": 17,
   "metadata": {},
   "outputs": [
    {
     "data": {
      "text/plain": [
       "Date             datetime64[ns]\n",
       "Visitor                  object\n",
       "VisitingGoals           float64\n",
       "Home                     object\n",
       "HomeGoals               float64\n",
       "OTSO                     object\n",
       "season                    int64\n",
       "dtype: object"
      ]
     },
     "execution_count": 17,
     "metadata": {},
     "output_type": "execute_result"
    }
   ],
   "source": [
    "df_lists.dtypes"
   ]
  },
  {
   "cell_type": "code",
   "execution_count": 18,
   "metadata": {},
   "outputs": [
    {
     "data": {
      "text/plain": [
       "array([nan, 'OT', 'SO'], dtype=object)"
      ]
     },
     "execution_count": 18,
     "metadata": {},
     "output_type": "execute_result"
    }
   ],
   "source": [
    "df_lists['OTSO'].unique()"
   ]
  },
  {
   "cell_type": "code",
   "execution_count": 19,
   "metadata": {},
   "outputs": [
    {
     "data": {
      "text/plain": [
       "array(['Edmonton Oilers', 'Pittsburgh Penguins', 'San Jose Sharks',\n",
       "       'Winnipeg Jets', 'Anaheim Ducks', 'Boston Bruins',\n",
       "       'Buffalo Sabres', 'Chicago Blackhawks', 'Detroit Red Wings',\n",
       "       'Los Angeles Kings', 'New York Rangers', 'Ottawa Senators',\n",
       "       'Columbus Blue Jackets', 'Dallas Stars', 'Tampa Bay Lightning',\n",
       "       'Arizona Coyotes', 'Carolina Hurricanes', 'Calgary Flames',\n",
       "       'Florida Panthers', 'New Jersey Devils', 'New York Islanders',\n",
       "       'St. Louis Blues', 'Toronto Maple Leafs', 'Vancouver Canucks',\n",
       "       'Washington Capitals', 'Montreal Canadiens', 'Nashville Predators',\n",
       "       'Vegas Golden Knights', 'Colorado Avalanche', 'Minnesota Wild',\n",
       "       'Philadelphia Flyers'], dtype=object)"
      ]
     },
     "execution_count": 19,
     "metadata": {},
     "output_type": "execute_result"
    }
   ],
   "source": [
    "df_lists['Home'].unique()"
   ]
  },
  {
   "cell_type": "code",
   "execution_count": 20,
   "metadata": {},
   "outputs": [],
   "source": [
    "replace_dict= {'Home':{'Atlanta Thrashers': 'Winnipeg Jets',\n",
    "                      'Mighty Ducks of Anaheim': 'Anaheim Ducks',\n",
    "                      'Phoenix Coyotes': 'Arizona Coyotes'},\n",
    "              'Visitor':{'Atlanta Thrashers': 'Winnipeg Jets',\n",
    "                      'Mighty Ducks of Anaheim': 'Anaheim Ducks',\n",
    "                      'Phoenix Coyotes': 'Arizona Coyotes'}}"
   ]
  },
  {
   "cell_type": "code",
   "execution_count": 21,
   "metadata": {},
   "outputs": [],
   "source": [
    "df_lists.replace(replace_dict,inplace=True)"
   ]
  },
  {
   "cell_type": "code",
   "execution_count": 22,
   "metadata": {},
   "outputs": [
    {
     "data": {
      "text/plain": [
       "array(['Edmonton Oilers', 'Pittsburgh Penguins', 'San Jose Sharks',\n",
       "       'Winnipeg Jets', 'Anaheim Ducks', 'Boston Bruins',\n",
       "       'Buffalo Sabres', 'Chicago Blackhawks', 'Detroit Red Wings',\n",
       "       'Los Angeles Kings', 'New York Rangers', 'Ottawa Senators',\n",
       "       'Columbus Blue Jackets', 'Dallas Stars', 'Tampa Bay Lightning',\n",
       "       'Arizona Coyotes', 'Carolina Hurricanes', 'Calgary Flames',\n",
       "       'Florida Panthers', 'New Jersey Devils', 'New York Islanders',\n",
       "       'St. Louis Blues', 'Toronto Maple Leafs', 'Vancouver Canucks',\n",
       "       'Washington Capitals', 'Montreal Canadiens', 'Nashville Predators',\n",
       "       'Vegas Golden Knights', 'Colorado Avalanche', 'Minnesota Wild',\n",
       "       'Philadelphia Flyers'], dtype=object)"
      ]
     },
     "execution_count": 22,
     "metadata": {},
     "output_type": "execute_result"
    }
   ],
   "source": [
    "df_lists['Home'].unique()"
   ]
  },
  {
   "cell_type": "code",
   "execution_count": 23,
   "metadata": {},
   "outputs": [
    {
     "data": {
      "text/html": [
       "<div>\n",
       "<style scoped>\n",
       "    .dataframe tbody tr th:only-of-type {\n",
       "        vertical-align: middle;\n",
       "    }\n",
       "\n",
       "    .dataframe tbody tr th {\n",
       "        vertical-align: top;\n",
       "    }\n",
       "\n",
       "    .dataframe thead th {\n",
       "        text-align: right;\n",
       "    }\n",
       "</style>\n",
       "<table border=\"1\" class=\"dataframe\">\n",
       "  <thead>\n",
       "    <tr style=\"text-align: right;\">\n",
       "      <th></th>\n",
       "      <th>Date</th>\n",
       "      <th>Visitor</th>\n",
       "      <th>VisitingGoals</th>\n",
       "      <th>Home</th>\n",
       "      <th>HomeGoals</th>\n",
       "      <th>OTSO</th>\n",
       "      <th>season</th>\n",
       "    </tr>\n",
       "  </thead>\n",
       "  <tbody>\n",
       "    <tr>\n",
       "      <th>0</th>\n",
       "      <td>2017-10-04</td>\n",
       "      <td>Calgary Flames</td>\n",
       "      <td>0.0</td>\n",
       "      <td>Edmonton Oilers</td>\n",
       "      <td>3.0</td>\n",
       "      <td>NaN</td>\n",
       "      <td>2018</td>\n",
       "    </tr>\n",
       "    <tr>\n",
       "      <th>1</th>\n",
       "      <td>2017-10-04</td>\n",
       "      <td>St. Louis Blues</td>\n",
       "      <td>5.0</td>\n",
       "      <td>Pittsburgh Penguins</td>\n",
       "      <td>4.0</td>\n",
       "      <td>OT</td>\n",
       "      <td>2018</td>\n",
       "    </tr>\n",
       "    <tr>\n",
       "      <th>2</th>\n",
       "      <td>2017-10-04</td>\n",
       "      <td>Philadelphia Flyers</td>\n",
       "      <td>5.0</td>\n",
       "      <td>San Jose Sharks</td>\n",
       "      <td>3.0</td>\n",
       "      <td>NaN</td>\n",
       "      <td>2018</td>\n",
       "    </tr>\n",
       "    <tr>\n",
       "      <th>3</th>\n",
       "      <td>2017-10-04</td>\n",
       "      <td>Toronto Maple Leafs</td>\n",
       "      <td>7.0</td>\n",
       "      <td>Winnipeg Jets</td>\n",
       "      <td>2.0</td>\n",
       "      <td>NaN</td>\n",
       "      <td>2018</td>\n",
       "    </tr>\n",
       "    <tr>\n",
       "      <th>4</th>\n",
       "      <td>2017-10-05</td>\n",
       "      <td>Arizona Coyotes</td>\n",
       "      <td>4.0</td>\n",
       "      <td>Anaheim Ducks</td>\n",
       "      <td>5.0</td>\n",
       "      <td>NaN</td>\n",
       "      <td>2018</td>\n",
       "    </tr>\n",
       "  </tbody>\n",
       "</table>\n",
       "</div>"
      ],
      "text/plain": [
       "        Date              Visitor  VisitingGoals                 Home  \\\n",
       "0 2017-10-04       Calgary Flames            0.0      Edmonton Oilers   \n",
       "1 2017-10-04      St. Louis Blues            5.0  Pittsburgh Penguins   \n",
       "2 2017-10-04  Philadelphia Flyers            5.0      San Jose Sharks   \n",
       "3 2017-10-04  Toronto Maple Leafs            7.0        Winnipeg Jets   \n",
       "4 2017-10-05      Arizona Coyotes            4.0        Anaheim Ducks   \n",
       "\n",
       "   HomeGoals OTSO  season  \n",
       "0        3.0  NaN    2018  \n",
       "1        4.0   OT    2018  \n",
       "2        3.0  NaN    2018  \n",
       "3        2.0  NaN    2018  \n",
       "4        5.0  NaN    2018  "
      ]
     },
     "execution_count": 23,
     "metadata": {},
     "output_type": "execute_result"
    }
   ],
   "source": [
    "df_lists.head()"
   ]
  },
  {
   "cell_type": "code",
   "execution_count": 24,
   "metadata": {},
   "outputs": [],
   "source": [
    "ind = df_lists['OTSO'].isna()\n",
    "df_lists.loc[ind,'OTSO'] = 'REG'"
   ]
  },
  {
   "cell_type": "code",
   "execution_count": 25,
   "metadata": {},
   "outputs": [
    {
     "data": {
      "text/plain": [
       "array(['REG', 'OT', 'SO'], dtype=object)"
      ]
     },
     "execution_count": 25,
     "metadata": {},
     "output_type": "execute_result"
    }
   ],
   "source": [
    "df_lists['OTSO'].unique()"
   ]
  },
  {
   "cell_type": "code",
   "execution_count": 26,
   "metadata": {},
   "outputs": [
    {
     "data": {
      "text/plain": [
       "array(['Anaheim Ducks', 'Arizona Coyotes', 'Boston Bruins',\n",
       "       'Buffalo Sabres', 'Calgary Flames', 'Carolina Hurricanes',\n",
       "       'Chicago Blackhawks', 'Colorado Avalanche',\n",
       "       'Columbus Blue Jackets', 'Dallas Stars', 'Detroit Red Wings',\n",
       "       'Edmonton Oilers', 'Florida Panthers', 'Los Angeles Kings',\n",
       "       'Minnesota Wild', 'Montreal Canadiens', 'Nashville Predators',\n",
       "       'New Jersey Devils', 'New York Islanders', 'New York Rangers',\n",
       "       'Ottawa Senators', 'Philadelphia Flyers', 'Pittsburgh Penguins',\n",
       "       'San Jose Sharks', 'St. Louis Blues', 'Tampa Bay Lightning',\n",
       "       'Toronto Maple Leafs', 'Vancouver Canucks', 'Vegas Golden Knights',\n",
       "       'Washington Capitals', 'Winnipeg Jets'], dtype=object)"
      ]
     },
     "execution_count": 26,
     "metadata": {},
     "output_type": "execute_result"
    }
   ],
   "source": [
    "# how come this doesnt work??? teams = df_lists['Home'].unique().sort()\n",
    "teams = df_lists['Home'].unique()\n",
    "teams.sort()\n",
    "teams"
   ]
  },
  {
   "cell_type": "code",
   "execution_count": 27,
   "metadata": {},
   "outputs": [
    {
     "data": {
      "text/html": [
       "<div>\n",
       "<style scoped>\n",
       "    .dataframe tbody tr th:only-of-type {\n",
       "        vertical-align: middle;\n",
       "    }\n",
       "\n",
       "    .dataframe tbody tr th {\n",
       "        vertical-align: top;\n",
       "    }\n",
       "\n",
       "    .dataframe thead th {\n",
       "        text-align: right;\n",
       "    }\n",
       "</style>\n",
       "<table border=\"1\" class=\"dataframe\">\n",
       "  <thead>\n",
       "    <tr style=\"text-align: right;\">\n",
       "      <th></th>\n",
       "      <th>Date</th>\n",
       "      <th>Visitor</th>\n",
       "      <th>VisitingGoals</th>\n",
       "      <th>Home</th>\n",
       "      <th>HomeGoals</th>\n",
       "      <th>OTSO</th>\n",
       "      <th>season</th>\n",
       "    </tr>\n",
       "  </thead>\n",
       "  <tbody>\n",
       "    <tr>\n",
       "      <th>0</th>\n",
       "      <td>2017-10-04</td>\n",
       "      <td>Calgary Flames</td>\n",
       "      <td>0.0</td>\n",
       "      <td>Edmonton Oilers</td>\n",
       "      <td>3.0</td>\n",
       "      <td>REG</td>\n",
       "      <td>2018</td>\n",
       "    </tr>\n",
       "    <tr>\n",
       "      <th>1</th>\n",
       "      <td>2017-10-04</td>\n",
       "      <td>St. Louis Blues</td>\n",
       "      <td>5.0</td>\n",
       "      <td>Pittsburgh Penguins</td>\n",
       "      <td>4.0</td>\n",
       "      <td>OT</td>\n",
       "      <td>2018</td>\n",
       "    </tr>\n",
       "    <tr>\n",
       "      <th>2</th>\n",
       "      <td>2017-10-04</td>\n",
       "      <td>Philadelphia Flyers</td>\n",
       "      <td>5.0</td>\n",
       "      <td>San Jose Sharks</td>\n",
       "      <td>3.0</td>\n",
       "      <td>REG</td>\n",
       "      <td>2018</td>\n",
       "    </tr>\n",
       "    <tr>\n",
       "      <th>3</th>\n",
       "      <td>2017-10-04</td>\n",
       "      <td>Toronto Maple Leafs</td>\n",
       "      <td>7.0</td>\n",
       "      <td>Winnipeg Jets</td>\n",
       "      <td>2.0</td>\n",
       "      <td>REG</td>\n",
       "      <td>2018</td>\n",
       "    </tr>\n",
       "    <tr>\n",
       "      <th>4</th>\n",
       "      <td>2017-10-05</td>\n",
       "      <td>Arizona Coyotes</td>\n",
       "      <td>4.0</td>\n",
       "      <td>Anaheim Ducks</td>\n",
       "      <td>5.0</td>\n",
       "      <td>REG</td>\n",
       "      <td>2018</td>\n",
       "    </tr>\n",
       "  </tbody>\n",
       "</table>\n",
       "</div>"
      ],
      "text/plain": [
       "        Date              Visitor  VisitingGoals                 Home  \\\n",
       "0 2017-10-04       Calgary Flames            0.0      Edmonton Oilers   \n",
       "1 2017-10-04      St. Louis Blues            5.0  Pittsburgh Penguins   \n",
       "2 2017-10-04  Philadelphia Flyers            5.0      San Jose Sharks   \n",
       "3 2017-10-04  Toronto Maple Leafs            7.0        Winnipeg Jets   \n",
       "4 2017-10-05      Arizona Coyotes            4.0        Anaheim Ducks   \n",
       "\n",
       "   HomeGoals OTSO  season  \n",
       "0        3.0  REG    2018  \n",
       "1        4.0   OT    2018  \n",
       "2        3.0  REG    2018  \n",
       "3        2.0  REG    2018  \n",
       "4        5.0  REG    2018  "
      ]
     },
     "execution_count": 27,
     "metadata": {},
     "output_type": "execute_result"
    }
   ],
   "source": [
    "df_lists.head()"
   ]
  },
  {
   "cell_type": "code",
   "execution_count": null,
   "metadata": {},
   "outputs": [],
   "source": []
  },
  {
   "cell_type": "code",
   "execution_count": 28,
   "metadata": {},
   "outputs": [
    {
     "data": {
      "text/plain": [
       "{'Anaheim Ducks': 1500,\n",
       " 'Arizona Coyotes': 1500,\n",
       " 'Boston Bruins': 1500,\n",
       " 'Buffalo Sabres': 1500,\n",
       " 'Calgary Flames': 1500,\n",
       " 'Carolina Hurricanes': 1500,\n",
       " 'Chicago Blackhawks': 1500,\n",
       " 'Colorado Avalanche': 1500,\n",
       " 'Columbus Blue Jackets': 1500,\n",
       " 'Dallas Stars': 1500,\n",
       " 'Detroit Red Wings': 1500,\n",
       " 'Edmonton Oilers': 1500,\n",
       " 'Florida Panthers': 1500,\n",
       " 'Los Angeles Kings': 1500,\n",
       " 'Minnesota Wild': 1500,\n",
       " 'Montreal Canadiens': 1500,\n",
       " 'Nashville Predators': 1500,\n",
       " 'New Jersey Devils': 1500,\n",
       " 'New York Islanders': 1500,\n",
       " 'New York Rangers': 1500,\n",
       " 'Ottawa Senators': 1500,\n",
       " 'Philadelphia Flyers': 1500,\n",
       " 'Pittsburgh Penguins': 1500,\n",
       " 'San Jose Sharks': 1500,\n",
       " 'St. Louis Blues': 1500,\n",
       " 'Tampa Bay Lightning': 1500,\n",
       " 'Toronto Maple Leafs': 1500,\n",
       " 'Vancouver Canucks': 1500,\n",
       " 'Vegas Golden Knights': 1500,\n",
       " 'Washington Capitals': 1500,\n",
       " 'Winnipeg Jets': 1500}"
      ]
     },
     "execution_count": 28,
     "metadata": {},
     "output_type": "execute_result"
    }
   ],
   "source": [
    "team_elos = {}\n",
    "for team in teams:\n",
    "    team_elos[team] = 1500\n",
    "team_elos"
   ]
  },
  {
   "cell_type": "code",
   "execution_count": 29,
   "metadata": {},
   "outputs": [],
   "source": [
    "k_factor = 10\n",
    "def update_elo(w_elo, l_elo):\n",
    "    exp_win = expected_result(w_elo, l_elo)\n",
    "    change = k_factor * (1-exp_win)\n",
    "    w_elo = w_elo + change\n",
    "    l_elo = l_elo - change\n",
    "    return w_elo, l_elo\n",
    "\n",
    "def expected_result(elo_a, elo_b):\n",
    "    expect = 1.0/(1+10**((elo_b - elo_a)/400))\n",
    "    return expect"
   ]
  },
  {
   "cell_type": "code",
   "execution_count": 30,
   "metadata": {},
   "outputs": [
    {
     "name": "stdout",
     "output_type": "stream",
     "text": [
      "        Date              Visitor  VisitingGoals                 Home  \\\n",
      "1 2017-10-04      St. Louis Blues            5.0  Pittsburgh Penguins   \n",
      "1 2018-10-03   Montreal Canadiens            2.0  Toronto Maple Leafs   \n",
      "1 2019-10-02  Washington Capitals            NaN      St. Louis Blues   \n",
      "\n",
      "   HomeGoals OTSO  season  \n",
      "1        4.0   OT    2018  \n",
      "1        3.0   OT    2019  \n",
      "1        NaN  REG    2020  \n"
     ]
    }
   ],
   "source": [
    "#for row in df_lists.loc[1,:].itertuples():\n",
    "    #print(row)\n",
    "\n",
    "row = df_lists.loc[1,:]\n",
    "print(row)\n",
    "    "
   ]
  },
  {
   "cell_type": "code",
   "execution_count": 31,
   "metadata": {},
   "outputs": [],
   "source": [
    "games = df_lists.reset_index() "
   ]
  },
  {
   "cell_type": "code",
   "execution_count": 32,
   "metadata": {},
   "outputs": [
    {
     "data": {
      "text/plain": [
       "index                              1\n",
       "Date             2017-10-04 00:00:00\n",
       "Visitor              St. Louis Blues\n",
       "VisitingGoals                      5\n",
       "Home             Pittsburgh Penguins\n",
       "HomeGoals                          4\n",
       "OTSO                              OT\n",
       "season                          2018\n",
       "Name: 1, dtype: object"
      ]
     },
     "execution_count": 32,
     "metadata": {},
     "output_type": "execute_result"
    }
   ],
   "source": [
    "games.loc[1,:]"
   ]
  },
  {
   "cell_type": "code",
   "execution_count": 33,
   "metadata": {},
   "outputs": [
    {
     "data": {
      "text/html": [
       "<div>\n",
       "<style scoped>\n",
       "    .dataframe tbody tr th:only-of-type {\n",
       "        vertical-align: middle;\n",
       "    }\n",
       "\n",
       "    .dataframe tbody tr th {\n",
       "        vertical-align: top;\n",
       "    }\n",
       "\n",
       "    .dataframe thead th {\n",
       "        text-align: right;\n",
       "    }\n",
       "</style>\n",
       "<table border=\"1\" class=\"dataframe\">\n",
       "  <thead>\n",
       "    <tr style=\"text-align: right;\">\n",
       "      <th></th>\n",
       "      <th>index</th>\n",
       "      <th>Date</th>\n",
       "      <th>Visitor</th>\n",
       "      <th>VisitingGoals</th>\n",
       "      <th>Home</th>\n",
       "      <th>HomeGoals</th>\n",
       "      <th>OTSO</th>\n",
       "      <th>season</th>\n",
       "    </tr>\n",
       "  </thead>\n",
       "  <tbody>\n",
       "    <tr>\n",
       "      <th>0</th>\n",
       "      <td>0</td>\n",
       "      <td>2017-10-04</td>\n",
       "      <td>Calgary Flames</td>\n",
       "      <td>0.0</td>\n",
       "      <td>Edmonton Oilers</td>\n",
       "      <td>3.0</td>\n",
       "      <td>REG</td>\n",
       "      <td>2018</td>\n",
       "    </tr>\n",
       "    <tr>\n",
       "      <th>1</th>\n",
       "      <td>1</td>\n",
       "      <td>2017-10-04</td>\n",
       "      <td>St. Louis Blues</td>\n",
       "      <td>5.0</td>\n",
       "      <td>Pittsburgh Penguins</td>\n",
       "      <td>4.0</td>\n",
       "      <td>OT</td>\n",
       "      <td>2018</td>\n",
       "    </tr>\n",
       "    <tr>\n",
       "      <th>2</th>\n",
       "      <td>2</td>\n",
       "      <td>2017-10-04</td>\n",
       "      <td>Philadelphia Flyers</td>\n",
       "      <td>5.0</td>\n",
       "      <td>San Jose Sharks</td>\n",
       "      <td>3.0</td>\n",
       "      <td>REG</td>\n",
       "      <td>2018</td>\n",
       "    </tr>\n",
       "    <tr>\n",
       "      <th>3</th>\n",
       "      <td>3</td>\n",
       "      <td>2017-10-04</td>\n",
       "      <td>Toronto Maple Leafs</td>\n",
       "      <td>7.0</td>\n",
       "      <td>Winnipeg Jets</td>\n",
       "      <td>2.0</td>\n",
       "      <td>REG</td>\n",
       "      <td>2018</td>\n",
       "    </tr>\n",
       "    <tr>\n",
       "      <th>4</th>\n",
       "      <td>4</td>\n",
       "      <td>2017-10-05</td>\n",
       "      <td>Arizona Coyotes</td>\n",
       "      <td>4.0</td>\n",
       "      <td>Anaheim Ducks</td>\n",
       "      <td>5.0</td>\n",
       "      <td>REG</td>\n",
       "      <td>2018</td>\n",
       "    </tr>\n",
       "  </tbody>\n",
       "</table>\n",
       "</div>"
      ],
      "text/plain": [
       "   index       Date              Visitor  VisitingGoals                 Home  \\\n",
       "0      0 2017-10-04       Calgary Flames            0.0      Edmonton Oilers   \n",
       "1      1 2017-10-04      St. Louis Blues            5.0  Pittsburgh Penguins   \n",
       "2      2 2017-10-04  Philadelphia Flyers            5.0      San Jose Sharks   \n",
       "3      3 2017-10-04  Toronto Maple Leafs            7.0        Winnipeg Jets   \n",
       "4      4 2017-10-05      Arizona Coyotes            4.0        Anaheim Ducks   \n",
       "\n",
       "   HomeGoals OTSO  season  \n",
       "0        3.0  REG    2018  \n",
       "1        4.0   OT    2018  \n",
       "2        3.0  REG    2018  \n",
       "3        2.0  REG    2018  \n",
       "4        5.0  REG    2018  "
      ]
     },
     "execution_count": 33,
     "metadata": {},
     "output_type": "execute_result"
    }
   ],
   "source": [
    "games.head()"
   ]
  },
  {
   "cell_type": "code",
   "execution_count": 34,
   "metadata": {},
   "outputs": [],
   "source": [
    "games.drop('index', axis=1, inplace=True)"
   ]
  },
  {
   "cell_type": "code",
   "execution_count": 35,
   "metadata": {},
   "outputs": [
    {
     "data": {
      "text/html": [
       "<div>\n",
       "<style scoped>\n",
       "    .dataframe tbody tr th:only-of-type {\n",
       "        vertical-align: middle;\n",
       "    }\n",
       "\n",
       "    .dataframe tbody tr th {\n",
       "        vertical-align: top;\n",
       "    }\n",
       "\n",
       "    .dataframe thead th {\n",
       "        text-align: right;\n",
       "    }\n",
       "</style>\n",
       "<table border=\"1\" class=\"dataframe\">\n",
       "  <thead>\n",
       "    <tr style=\"text-align: right;\">\n",
       "      <th></th>\n",
       "      <th>Date</th>\n",
       "      <th>Visitor</th>\n",
       "      <th>VisitingGoals</th>\n",
       "      <th>Home</th>\n",
       "      <th>HomeGoals</th>\n",
       "      <th>OTSO</th>\n",
       "      <th>season</th>\n",
       "    </tr>\n",
       "  </thead>\n",
       "  <tbody>\n",
       "    <tr>\n",
       "      <th>0</th>\n",
       "      <td>2017-10-04</td>\n",
       "      <td>Calgary Flames</td>\n",
       "      <td>0.0</td>\n",
       "      <td>Edmonton Oilers</td>\n",
       "      <td>3.0</td>\n",
       "      <td>REG</td>\n",
       "      <td>2018</td>\n",
       "    </tr>\n",
       "    <tr>\n",
       "      <th>1</th>\n",
       "      <td>2017-10-04</td>\n",
       "      <td>St. Louis Blues</td>\n",
       "      <td>5.0</td>\n",
       "      <td>Pittsburgh Penguins</td>\n",
       "      <td>4.0</td>\n",
       "      <td>OT</td>\n",
       "      <td>2018</td>\n",
       "    </tr>\n",
       "    <tr>\n",
       "      <th>2</th>\n",
       "      <td>2017-10-04</td>\n",
       "      <td>Philadelphia Flyers</td>\n",
       "      <td>5.0</td>\n",
       "      <td>San Jose Sharks</td>\n",
       "      <td>3.0</td>\n",
       "      <td>REG</td>\n",
       "      <td>2018</td>\n",
       "    </tr>\n",
       "    <tr>\n",
       "      <th>3</th>\n",
       "      <td>2017-10-04</td>\n",
       "      <td>Toronto Maple Leafs</td>\n",
       "      <td>7.0</td>\n",
       "      <td>Winnipeg Jets</td>\n",
       "      <td>2.0</td>\n",
       "      <td>REG</td>\n",
       "      <td>2018</td>\n",
       "    </tr>\n",
       "    <tr>\n",
       "      <th>4</th>\n",
       "      <td>2017-10-05</td>\n",
       "      <td>Arizona Coyotes</td>\n",
       "      <td>4.0</td>\n",
       "      <td>Anaheim Ducks</td>\n",
       "      <td>5.0</td>\n",
       "      <td>REG</td>\n",
       "      <td>2018</td>\n",
       "    </tr>\n",
       "  </tbody>\n",
       "</table>\n",
       "</div>"
      ],
      "text/plain": [
       "        Date              Visitor  VisitingGoals                 Home  \\\n",
       "0 2017-10-04       Calgary Flames            0.0      Edmonton Oilers   \n",
       "1 2017-10-04      St. Louis Blues            5.0  Pittsburgh Penguins   \n",
       "2 2017-10-04  Philadelphia Flyers            5.0      San Jose Sharks   \n",
       "3 2017-10-04  Toronto Maple Leafs            7.0        Winnipeg Jets   \n",
       "4 2017-10-05      Arizona Coyotes            4.0        Anaheim Ducks   \n",
       "\n",
       "   HomeGoals OTSO  season  \n",
       "0        3.0  REG    2018  \n",
       "1        4.0   OT    2018  \n",
       "2        3.0  REG    2018  \n",
       "3        2.0  REG    2018  \n",
       "4        5.0  REG    2018  "
      ]
     },
     "execution_count": 35,
     "metadata": {},
     "output_type": "execute_result"
    }
   ],
   "source": [
    "games.head()"
   ]
  },
  {
   "cell_type": "code",
   "execution_count": 36,
   "metadata": {},
   "outputs": [],
   "source": [
    "games.rename(columns={'season':'Season'}, inplace = True)"
   ]
  },
  {
   "cell_type": "code",
   "execution_count": 37,
   "metadata": {},
   "outputs": [
    {
     "data": {
      "text/html": [
       "<div>\n",
       "<style scoped>\n",
       "    .dataframe tbody tr th:only-of-type {\n",
       "        vertical-align: middle;\n",
       "    }\n",
       "\n",
       "    .dataframe tbody tr th {\n",
       "        vertical-align: top;\n",
       "    }\n",
       "\n",
       "    .dataframe thead th {\n",
       "        text-align: right;\n",
       "    }\n",
       "</style>\n",
       "<table border=\"1\" class=\"dataframe\">\n",
       "  <thead>\n",
       "    <tr style=\"text-align: right;\">\n",
       "      <th></th>\n",
       "      <th>Date</th>\n",
       "      <th>Visitor</th>\n",
       "      <th>VisitingGoals</th>\n",
       "      <th>Home</th>\n",
       "      <th>HomeGoals</th>\n",
       "      <th>OTSO</th>\n",
       "      <th>Season</th>\n",
       "    </tr>\n",
       "  </thead>\n",
       "  <tbody>\n",
       "    <tr>\n",
       "      <th>3808</th>\n",
       "      <td>2020-04-04</td>\n",
       "      <td>Chicago Blackhawks</td>\n",
       "      <td>NaN</td>\n",
       "      <td>New York Rangers</td>\n",
       "      <td>NaN</td>\n",
       "      <td>REG</td>\n",
       "      <td>2020</td>\n",
       "    </tr>\n",
       "    <tr>\n",
       "      <th>3809</th>\n",
       "      <td>2020-04-04</td>\n",
       "      <td>Pittsburgh Penguins</td>\n",
       "      <td>NaN</td>\n",
       "      <td>Ottawa Senators</td>\n",
       "      <td>NaN</td>\n",
       "      <td>REG</td>\n",
       "      <td>2020</td>\n",
       "    </tr>\n",
       "    <tr>\n",
       "      <th>3810</th>\n",
       "      <td>2020-04-04</td>\n",
       "      <td>Anaheim Ducks</td>\n",
       "      <td>NaN</td>\n",
       "      <td>San Jose Sharks</td>\n",
       "      <td>NaN</td>\n",
       "      <td>REG</td>\n",
       "      <td>2020</td>\n",
       "    </tr>\n",
       "    <tr>\n",
       "      <th>3811</th>\n",
       "      <td>2020-04-04</td>\n",
       "      <td>Montreal Canadiens</td>\n",
       "      <td>NaN</td>\n",
       "      <td>Toronto Maple Leafs</td>\n",
       "      <td>NaN</td>\n",
       "      <td>REG</td>\n",
       "      <td>2020</td>\n",
       "    </tr>\n",
       "    <tr>\n",
       "      <th>3812</th>\n",
       "      <td>2020-04-04</td>\n",
       "      <td>Vegas Golden Knights</td>\n",
       "      <td>NaN</td>\n",
       "      <td>Vancouver Canucks</td>\n",
       "      <td>NaN</td>\n",
       "      <td>REG</td>\n",
       "      <td>2020</td>\n",
       "    </tr>\n",
       "  </tbody>\n",
       "</table>\n",
       "</div>"
      ],
      "text/plain": [
       "           Date               Visitor  VisitingGoals                 Home  \\\n",
       "3808 2020-04-04    Chicago Blackhawks            NaN     New York Rangers   \n",
       "3809 2020-04-04   Pittsburgh Penguins            NaN      Ottawa Senators   \n",
       "3810 2020-04-04         Anaheim Ducks            NaN      San Jose Sharks   \n",
       "3811 2020-04-04    Montreal Canadiens            NaN  Toronto Maple Leafs   \n",
       "3812 2020-04-04  Vegas Golden Knights            NaN    Vancouver Canucks   \n",
       "\n",
       "      HomeGoals OTSO  Season  \n",
       "3808        NaN  REG    2020  \n",
       "3809        NaN  REG    2020  \n",
       "3810        NaN  REG    2020  \n",
       "3811        NaN  REG    2020  \n",
       "3812        NaN  REG    2020  "
      ]
     },
     "execution_count": 37,
     "metadata": {},
     "output_type": "execute_result"
    }
   ],
   "source": [
    "games.tail()"
   ]
  },
  {
   "cell_type": "code",
   "execution_count": 38,
   "metadata": {
    "scrolled": true
   },
   "outputs": [
    {
     "name": "stdout",
     "output_type": "stream",
     "text": [
      "Pandas(Index=0, Date=Timestamp('2017-10-04 00:00:00'), Visitor='Calgary Flames', VisitingGoals=0.0, Home='Edmonton Oilers', HomeGoals=3.0, OTSO='REG', Season=2018)\n",
      "Pandas(Index=1, Date=Timestamp('2017-10-04 00:00:00'), Visitor='St. Louis Blues', VisitingGoals=5.0, Home='Pittsburgh Penguins', HomeGoals=4.0, OTSO='OT', Season=2018)\n",
      "Pandas(Index=2, Date=Timestamp('2017-10-04 00:00:00'), Visitor='Philadelphia Flyers', VisitingGoals=5.0, Home='San Jose Sharks', HomeGoals=3.0, OTSO='REG', Season=2018)\n",
      "Pandas(Index=3, Date=Timestamp('2017-10-04 00:00:00'), Visitor='Toronto Maple Leafs', VisitingGoals=7.0, Home='Winnipeg Jets', HomeGoals=2.0, OTSO='REG', Season=2018)\n",
      "Pandas(Index=4, Date=Timestamp('2017-10-05 00:00:00'), Visitor='Arizona Coyotes', VisitingGoals=4.0, Home='Anaheim Ducks', HomeGoals=5.0, OTSO='REG', Season=2018)\n"
     ]
    }
   ],
   "source": [
    "for row in games.head().itertuples():\n",
    "    print(row)"
   ]
  },
  {
   "cell_type": "code",
   "execution_count": 51,
   "metadata": {},
   "outputs": [],
   "source": [
    "class TeamElos(dict):\n",
    "    def __init__(self):\n",
    "        super().__init__(self)\n",
    "        for team in teams:\n",
    "            self[team] = 1500\n",
    "            \n",
    "    def update(self, game_tuple):\n",
    "        if game_tuple.VisitingGoals>game_tuple.HomeGoals:\n",
    "            winning_team = game_tuple.Visitor\n",
    "            losing_team = game_tuple.Home\n",
    "        else:\n",
    "            winning_team = game_tuple.Home\n",
    "            losing_team = game_tuple.Visitor\n",
    "        self[winning_team], self[losing_team] = update_elo(self[winning_team],self[losing_team])\n",
    "            "
   ]
  },
  {
   "cell_type": "code",
   "execution_count": 58,
   "metadata": {},
   "outputs": [],
   "source": [
    "elos = TeamElos()\n",
    "for row in games.itertuples():\n",
    "    if row.Date.date()< pd.Timestamp.today().date():\n",
    "        elos.update(row)"
   ]
  },
  {
   "cell_type": "code",
   "execution_count": 53,
   "metadata": {},
   "outputs": [
    {
     "data": {
      "text/plain": [
       "Date             datetime64[ns]\n",
       "Visitor                  object\n",
       "VisitingGoals           float64\n",
       "Home                     object\n",
       "HomeGoals               float64\n",
       "OTSO                     object\n",
       "Season                    int64\n",
       "dtype: object"
      ]
     },
     "execution_count": 53,
     "metadata": {},
     "output_type": "execute_result"
    }
   ],
   "source": [
    "games.dtypes"
   ]
  },
  {
   "cell_type": "code",
   "execution_count": 86,
   "metadata": {},
   "outputs": [],
   "source": [
    "elos=pd.DataFrame(elos, index = ['Elo Rating']).T.sort_values(by='Elo Rating', ascending = False)"
   ]
  },
  {
   "cell_type": "code",
   "execution_count": 87,
   "metadata": {},
   "outputs": [
    {
     "name": "stderr",
     "output_type": "stream",
     "text": [
      "/Users/will/anaconda3/lib/python3.7/site-packages/ipykernel_launcher.py:1: FutureWarning: Comparing Series of datetimes with 'datetime.date'.  Currently, the\n",
      "'datetime.date' is coerced to a datetime. In the future pandas will\n",
      "not coerce, and a TypeError will be raised. To retain the current\n",
      "behavior, convert the 'datetime.date' to a datetime with\n",
      "'pd.Timestamp'.\n",
      "  \"\"\"Entry point for launching an IPython kernel.\n"
     ]
    }
   ],
   "source": [
    "ind = games['Date']> pd.Timestamp.today().date()"
   ]
  },
  {
   "cell_type": "code",
   "execution_count": 88,
   "metadata": {},
   "outputs": [],
   "source": [
    "games_future = games.loc[ind,:].reset_index()\n",
    "games_future.drop('index', axis=1, inplace=True)"
   ]
  },
  {
   "cell_type": "code",
   "execution_count": 89,
   "metadata": {},
   "outputs": [
    {
     "data": {
      "text/html": [
       "<div>\n",
       "<style scoped>\n",
       "    .dataframe tbody tr th:only-of-type {\n",
       "        vertical-align: middle;\n",
       "    }\n",
       "\n",
       "    .dataframe tbody tr th {\n",
       "        vertical-align: top;\n",
       "    }\n",
       "\n",
       "    .dataframe thead th {\n",
       "        text-align: right;\n",
       "    }\n",
       "</style>\n",
       "<table border=\"1\" class=\"dataframe\">\n",
       "  <thead>\n",
       "    <tr style=\"text-align: right;\">\n",
       "      <th></th>\n",
       "      <th>Date</th>\n",
       "      <th>Visitor</th>\n",
       "      <th>VisitingGoals</th>\n",
       "      <th>Home</th>\n",
       "      <th>HomeGoals</th>\n",
       "      <th>OTSO</th>\n",
       "      <th>Season</th>\n",
       "    </tr>\n",
       "  </thead>\n",
       "  <tbody>\n",
       "    <tr>\n",
       "      <th>0</th>\n",
       "      <td>2019-10-02</td>\n",
       "      <td>Vancouver Canucks</td>\n",
       "      <td>NaN</td>\n",
       "      <td>Edmonton Oilers</td>\n",
       "      <td>NaN</td>\n",
       "      <td>REG</td>\n",
       "      <td>2020</td>\n",
       "    </tr>\n",
       "    <tr>\n",
       "      <th>1</th>\n",
       "      <td>2019-10-02</td>\n",
       "      <td>Washington Capitals</td>\n",
       "      <td>NaN</td>\n",
       "      <td>St. Louis Blues</td>\n",
       "      <td>NaN</td>\n",
       "      <td>REG</td>\n",
       "      <td>2020</td>\n",
       "    </tr>\n",
       "    <tr>\n",
       "      <th>2</th>\n",
       "      <td>2019-10-02</td>\n",
       "      <td>Ottawa Senators</td>\n",
       "      <td>NaN</td>\n",
       "      <td>Toronto Maple Leafs</td>\n",
       "      <td>NaN</td>\n",
       "      <td>REG</td>\n",
       "      <td>2020</td>\n",
       "    </tr>\n",
       "    <tr>\n",
       "      <th>3</th>\n",
       "      <td>2019-10-02</td>\n",
       "      <td>San Jose Sharks</td>\n",
       "      <td>NaN</td>\n",
       "      <td>Vegas Golden Knights</td>\n",
       "      <td>NaN</td>\n",
       "      <td>REG</td>\n",
       "      <td>2020</td>\n",
       "    </tr>\n",
       "    <tr>\n",
       "      <th>4</th>\n",
       "      <td>2019-10-03</td>\n",
       "      <td>Arizona Coyotes</td>\n",
       "      <td>NaN</td>\n",
       "      <td>Anaheim Ducks</td>\n",
       "      <td>NaN</td>\n",
       "      <td>REG</td>\n",
       "      <td>2020</td>\n",
       "    </tr>\n",
       "  </tbody>\n",
       "</table>\n",
       "</div>"
      ],
      "text/plain": [
       "        Date              Visitor  VisitingGoals                  Home  \\\n",
       "0 2019-10-02    Vancouver Canucks            NaN       Edmonton Oilers   \n",
       "1 2019-10-02  Washington Capitals            NaN       St. Louis Blues   \n",
       "2 2019-10-02      Ottawa Senators            NaN   Toronto Maple Leafs   \n",
       "3 2019-10-02      San Jose Sharks            NaN  Vegas Golden Knights   \n",
       "4 2019-10-03      Arizona Coyotes            NaN         Anaheim Ducks   \n",
       "\n",
       "   HomeGoals OTSO  Season  \n",
       "0        NaN  REG    2020  \n",
       "1        NaN  REG    2020  \n",
       "2        NaN  REG    2020  \n",
       "3        NaN  REG    2020  \n",
       "4        NaN  REG    2020  "
      ]
     },
     "execution_count": 89,
     "metadata": {},
     "output_type": "execute_result"
    }
   ],
   "source": [
    "games_future.head()\n"
   ]
  },
  {
   "cell_type": "code",
   "execution_count": 98,
   "metadata": {},
   "outputs": [],
   "source": [
    "games_prediction = games_future.loc[0:10,['Date', 'Visitor', 'Home']]"
   ]
  },
  {
   "cell_type": "code",
   "execution_count": 99,
   "metadata": {},
   "outputs": [
    {
     "data": {
      "text/html": [
       "<div>\n",
       "<style scoped>\n",
       "    .dataframe tbody tr th:only-of-type {\n",
       "        vertical-align: middle;\n",
       "    }\n",
       "\n",
       "    .dataframe tbody tr th {\n",
       "        vertical-align: top;\n",
       "    }\n",
       "\n",
       "    .dataframe thead th {\n",
       "        text-align: right;\n",
       "    }\n",
       "</style>\n",
       "<table border=\"1\" class=\"dataframe\">\n",
       "  <thead>\n",
       "    <tr style=\"text-align: right;\">\n",
       "      <th></th>\n",
       "      <th>Elo Rating</th>\n",
       "    </tr>\n",
       "  </thead>\n",
       "  <tbody>\n",
       "    <tr>\n",
       "      <th>Tampa Bay Lightning</th>\n",
       "      <td>1651.488650</td>\n",
       "    </tr>\n",
       "    <tr>\n",
       "      <th>Boston Bruins</th>\n",
       "      <td>1571.082056</td>\n",
       "    </tr>\n",
       "    <tr>\n",
       "      <th>Washington Capitals</th>\n",
       "      <td>1563.752437</td>\n",
       "    </tr>\n",
       "    <tr>\n",
       "      <th>Nashville Predators</th>\n",
       "      <td>1555.058926</td>\n",
       "    </tr>\n",
       "    <tr>\n",
       "      <th>Winnipeg Jets</th>\n",
       "      <td>1548.370577</td>\n",
       "    </tr>\n",
       "  </tbody>\n",
       "</table>\n",
       "</div>"
      ],
      "text/plain": [
       "                      Elo Rating\n",
       "Tampa Bay Lightning  1651.488650\n",
       "Boston Bruins        1571.082056\n",
       "Washington Capitals  1563.752437\n",
       "Nashville Predators  1555.058926\n",
       "Winnipeg Jets        1548.370577"
      ]
     },
     "execution_count": 99,
     "metadata": {},
     "output_type": "execute_result"
    }
   ],
   "source": [
    "elos.head()"
   ]
  },
  {
   "cell_type": "code",
   "execution_count": 100,
   "metadata": {},
   "outputs": [
    {
     "data": {
      "text/html": [
       "<div>\n",
       "<style scoped>\n",
       "    .dataframe tbody tr th:only-of-type {\n",
       "        vertical-align: middle;\n",
       "    }\n",
       "\n",
       "    .dataframe tbody tr th {\n",
       "        vertical-align: top;\n",
       "    }\n",
       "\n",
       "    .dataframe thead th {\n",
       "        text-align: right;\n",
       "    }\n",
       "</style>\n",
       "<table border=\"1\" class=\"dataframe\">\n",
       "  <thead>\n",
       "    <tr style=\"text-align: right;\">\n",
       "      <th></th>\n",
       "      <th>Date</th>\n",
       "      <th>Visitor</th>\n",
       "      <th>Home</th>\n",
       "    </tr>\n",
       "  </thead>\n",
       "  <tbody>\n",
       "    <tr>\n",
       "      <th>0</th>\n",
       "      <td>2019-10-02</td>\n",
       "      <td>Vancouver Canucks</td>\n",
       "      <td>Edmonton Oilers</td>\n",
       "    </tr>\n",
       "    <tr>\n",
       "      <th>1</th>\n",
       "      <td>2019-10-02</td>\n",
       "      <td>Washington Capitals</td>\n",
       "      <td>St. Louis Blues</td>\n",
       "    </tr>\n",
       "    <tr>\n",
       "      <th>2</th>\n",
       "      <td>2019-10-02</td>\n",
       "      <td>Ottawa Senators</td>\n",
       "      <td>Toronto Maple Leafs</td>\n",
       "    </tr>\n",
       "    <tr>\n",
       "      <th>3</th>\n",
       "      <td>2019-10-02</td>\n",
       "      <td>San Jose Sharks</td>\n",
       "      <td>Vegas Golden Knights</td>\n",
       "    </tr>\n",
       "    <tr>\n",
       "      <th>4</th>\n",
       "      <td>2019-10-03</td>\n",
       "      <td>Arizona Coyotes</td>\n",
       "      <td>Anaheim Ducks</td>\n",
       "    </tr>\n",
       "  </tbody>\n",
       "</table>\n",
       "</div>"
      ],
      "text/plain": [
       "        Date              Visitor                  Home\n",
       "0 2019-10-02    Vancouver Canucks       Edmonton Oilers\n",
       "1 2019-10-02  Washington Capitals       St. Louis Blues\n",
       "2 2019-10-02      Ottawa Senators   Toronto Maple Leafs\n",
       "3 2019-10-02      San Jose Sharks  Vegas Golden Knights\n",
       "4 2019-10-03      Arizona Coyotes         Anaheim Ducks"
      ]
     },
     "execution_count": 100,
     "metadata": {},
     "output_type": "execute_result"
    }
   ],
   "source": [
    "games_prediction.head()"
   ]
  },
  {
   "cell_type": "code",
   "execution_count": 101,
   "metadata": {},
   "outputs": [
    {
     "data": {
      "text/html": [
       "<div>\n",
       "<style scoped>\n",
       "    .dataframe tbody tr th:only-of-type {\n",
       "        vertical-align: middle;\n",
       "    }\n",
       "\n",
       "    .dataframe tbody tr th {\n",
       "        vertical-align: top;\n",
       "    }\n",
       "\n",
       "    .dataframe thead th {\n",
       "        text-align: right;\n",
       "    }\n",
       "</style>\n",
       "<table border=\"1\" class=\"dataframe\">\n",
       "  <thead>\n",
       "    <tr style=\"text-align: right;\">\n",
       "      <th></th>\n",
       "      <th>Date</th>\n",
       "      <th>Visitor</th>\n",
       "      <th>Home</th>\n",
       "      <th>Visitor Elo Rating</th>\n",
       "    </tr>\n",
       "  </thead>\n",
       "  <tbody>\n",
       "    <tr>\n",
       "      <th>0</th>\n",
       "      <td>2019-10-02</td>\n",
       "      <td>Vancouver Canucks</td>\n",
       "      <td>Edmonton Oilers</td>\n",
       "      <td>1442.726576</td>\n",
       "    </tr>\n",
       "    <tr>\n",
       "      <th>1</th>\n",
       "      <td>2019-10-02</td>\n",
       "      <td>Washington Capitals</td>\n",
       "      <td>St. Louis Blues</td>\n",
       "      <td>1563.752437</td>\n",
       "    </tr>\n",
       "    <tr>\n",
       "      <th>2</th>\n",
       "      <td>2019-10-02</td>\n",
       "      <td>Ottawa Senators</td>\n",
       "      <td>Toronto Maple Leafs</td>\n",
       "      <td>1401.496989</td>\n",
       "    </tr>\n",
       "    <tr>\n",
       "      <th>3</th>\n",
       "      <td>2019-10-02</td>\n",
       "      <td>San Jose Sharks</td>\n",
       "      <td>Vegas Golden Knights</td>\n",
       "      <td>1534.299391</td>\n",
       "    </tr>\n",
       "    <tr>\n",
       "      <th>4</th>\n",
       "      <td>2019-10-03</td>\n",
       "      <td>Arizona Coyotes</td>\n",
       "      <td>Anaheim Ducks</td>\n",
       "      <td>1475.793292</td>\n",
       "    </tr>\n",
       "  </tbody>\n",
       "</table>\n",
       "</div>"
      ],
      "text/plain": [
       "        Date              Visitor                  Home  Visitor Elo Rating\n",
       "0 2019-10-02    Vancouver Canucks       Edmonton Oilers         1442.726576\n",
       "1 2019-10-02  Washington Capitals       St. Louis Blues         1563.752437\n",
       "2 2019-10-02      Ottawa Senators   Toronto Maple Leafs         1401.496989\n",
       "3 2019-10-02      San Jose Sharks  Vegas Golden Knights         1534.299391\n",
       "4 2019-10-03      Arizona Coyotes         Anaheim Ducks         1475.793292"
      ]
     },
     "execution_count": 101,
     "metadata": {},
     "output_type": "execute_result"
    }
   ],
   "source": [
    "games_prediction = pd.DataFrame.merge(games_prediction,elos,left_on= 'Visitor', right_index = True)\n",
    "games_prediction.rename(columns={'Elo Rating':'Visitor Elo Rating'\n",
    "                       }, inplace = True)\n",
    "games_prediction.head()"
   ]
  },
  {
   "cell_type": "code",
   "execution_count": 102,
   "metadata": {},
   "outputs": [],
   "source": [
    "games_prediction = pd.DataFrame.merge(games_prediction,elos,left_on= 'Home', right_index = True)\n",
    "games_prediction.rename(columns={'Elo Rating':'Home Elo Rating'\n",
    "                       }, inplace = True)"
   ]
  },
  {
   "cell_type": "code",
   "execution_count": 103,
   "metadata": {},
   "outputs": [
    {
     "data": {
      "text/html": [
       "<div>\n",
       "<style scoped>\n",
       "    .dataframe tbody tr th:only-of-type {\n",
       "        vertical-align: middle;\n",
       "    }\n",
       "\n",
       "    .dataframe tbody tr th {\n",
       "        vertical-align: top;\n",
       "    }\n",
       "\n",
       "    .dataframe thead th {\n",
       "        text-align: right;\n",
       "    }\n",
       "</style>\n",
       "<table border=\"1\" class=\"dataframe\">\n",
       "  <thead>\n",
       "    <tr style=\"text-align: right;\">\n",
       "      <th></th>\n",
       "      <th>Date</th>\n",
       "      <th>Visitor</th>\n",
       "      <th>Home</th>\n",
       "      <th>Visitor Elo Rating</th>\n",
       "      <th>Home Elo Rating</th>\n",
       "    </tr>\n",
       "  </thead>\n",
       "  <tbody>\n",
       "    <tr>\n",
       "      <th>0</th>\n",
       "      <td>2019-10-02</td>\n",
       "      <td>Vancouver Canucks</td>\n",
       "      <td>Edmonton Oilers</td>\n",
       "      <td>1442.726576</td>\n",
       "      <td>1447.830046</td>\n",
       "    </tr>\n",
       "    <tr>\n",
       "      <th>1</th>\n",
       "      <td>2019-10-02</td>\n",
       "      <td>Washington Capitals</td>\n",
       "      <td>St. Louis Blues</td>\n",
       "      <td>1563.752437</td>\n",
       "      <td>1543.112556</td>\n",
       "    </tr>\n",
       "    <tr>\n",
       "      <th>2</th>\n",
       "      <td>2019-10-02</td>\n",
       "      <td>Ottawa Senators</td>\n",
       "      <td>Toronto Maple Leafs</td>\n",
       "      <td>1401.496989</td>\n",
       "      <td>1524.054571</td>\n",
       "    </tr>\n",
       "    <tr>\n",
       "      <th>3</th>\n",
       "      <td>2019-10-02</td>\n",
       "      <td>San Jose Sharks</td>\n",
       "      <td>Vegas Golden Knights</td>\n",
       "      <td>1534.299391</td>\n",
       "      <td>1518.802368</td>\n",
       "    </tr>\n",
       "    <tr>\n",
       "      <th>4</th>\n",
       "      <td>2019-10-03</td>\n",
       "      <td>Arizona Coyotes</td>\n",
       "      <td>Anaheim Ducks</td>\n",
       "      <td>1475.793292</td>\n",
       "      <td>1477.963580</td>\n",
       "    </tr>\n",
       "  </tbody>\n",
       "</table>\n",
       "</div>"
      ],
      "text/plain": [
       "        Date              Visitor                  Home  Visitor Elo Rating  \\\n",
       "0 2019-10-02    Vancouver Canucks       Edmonton Oilers         1442.726576   \n",
       "1 2019-10-02  Washington Capitals       St. Louis Blues         1563.752437   \n",
       "2 2019-10-02      Ottawa Senators   Toronto Maple Leafs         1401.496989   \n",
       "3 2019-10-02      San Jose Sharks  Vegas Golden Knights         1534.299391   \n",
       "4 2019-10-03      Arizona Coyotes         Anaheim Ducks         1475.793292   \n",
       "\n",
       "   Home Elo Rating  \n",
       "0      1447.830046  \n",
       "1      1543.112556  \n",
       "2      1524.054571  \n",
       "3      1518.802368  \n",
       "4      1477.963580  "
      ]
     },
     "execution_count": 103,
     "metadata": {},
     "output_type": "execute_result"
    }
   ],
   "source": [
    "games_prediction.head()"
   ]
  },
  {
   "cell_type": "code",
   "execution_count": 104,
   "metadata": {},
   "outputs": [],
   "source": [
    "games_prediction['Home Win%']= expected_result(games_prediction['Home Elo Rating'],games_prediction['Visitor Elo Rating'])"
   ]
  },
  {
   "cell_type": "code",
   "execution_count": 105,
   "metadata": {},
   "outputs": [
    {
     "data": {
      "text/html": [
       "<div>\n",
       "<style scoped>\n",
       "    .dataframe tbody tr th:only-of-type {\n",
       "        vertical-align: middle;\n",
       "    }\n",
       "\n",
       "    .dataframe tbody tr th {\n",
       "        vertical-align: top;\n",
       "    }\n",
       "\n",
       "    .dataframe thead th {\n",
       "        text-align: right;\n",
       "    }\n",
       "</style>\n",
       "<table border=\"1\" class=\"dataframe\">\n",
       "  <thead>\n",
       "    <tr style=\"text-align: right;\">\n",
       "      <th></th>\n",
       "      <th>Date</th>\n",
       "      <th>Visitor</th>\n",
       "      <th>Home</th>\n",
       "      <th>Visitor Elo Rating</th>\n",
       "      <th>Home Elo Rating</th>\n",
       "      <th>Home Win%</th>\n",
       "    </tr>\n",
       "  </thead>\n",
       "  <tbody>\n",
       "    <tr>\n",
       "      <th>0</th>\n",
       "      <td>2019-10-02</td>\n",
       "      <td>Vancouver Canucks</td>\n",
       "      <td>Edmonton Oilers</td>\n",
       "      <td>1442.726576</td>\n",
       "      <td>1447.830046</td>\n",
       "      <td>0.507344</td>\n",
       "    </tr>\n",
       "    <tr>\n",
       "      <th>1</th>\n",
       "      <td>2019-10-02</td>\n",
       "      <td>Washington Capitals</td>\n",
       "      <td>St. Louis Blues</td>\n",
       "      <td>1563.752437</td>\n",
       "      <td>1543.112556</td>\n",
       "      <td>0.470332</td>\n",
       "    </tr>\n",
       "    <tr>\n",
       "      <th>2</th>\n",
       "      <td>2019-10-02</td>\n",
       "      <td>Ottawa Senators</td>\n",
       "      <td>Toronto Maple Leafs</td>\n",
       "      <td>1401.496989</td>\n",
       "      <td>1524.054571</td>\n",
       "      <td>0.669406</td>\n",
       "    </tr>\n",
       "    <tr>\n",
       "      <th>3</th>\n",
       "      <td>2019-10-02</td>\n",
       "      <td>San Jose Sharks</td>\n",
       "      <td>Vegas Golden Knights</td>\n",
       "      <td>1534.299391</td>\n",
       "      <td>1518.802368</td>\n",
       "      <td>0.477713</td>\n",
       "    </tr>\n",
       "    <tr>\n",
       "      <th>4</th>\n",
       "      <td>2019-10-03</td>\n",
       "      <td>Arizona Coyotes</td>\n",
       "      <td>Anaheim Ducks</td>\n",
       "      <td>1475.793292</td>\n",
       "      <td>1477.963580</td>\n",
       "      <td>0.503123</td>\n",
       "    </tr>\n",
       "  </tbody>\n",
       "</table>\n",
       "</div>"
      ],
      "text/plain": [
       "        Date              Visitor                  Home  Visitor Elo Rating  \\\n",
       "0 2019-10-02    Vancouver Canucks       Edmonton Oilers         1442.726576   \n",
       "1 2019-10-02  Washington Capitals       St. Louis Blues         1563.752437   \n",
       "2 2019-10-02      Ottawa Senators   Toronto Maple Leafs         1401.496989   \n",
       "3 2019-10-02      San Jose Sharks  Vegas Golden Knights         1534.299391   \n",
       "4 2019-10-03      Arizona Coyotes         Anaheim Ducks         1475.793292   \n",
       "\n",
       "   Home Elo Rating  Home Win%  \n",
       "0      1447.830046   0.507344  \n",
       "1      1543.112556   0.470332  \n",
       "2      1524.054571   0.669406  \n",
       "3      1518.802368   0.477713  \n",
       "4      1477.963580   0.503123  "
      ]
     },
     "execution_count": 105,
     "metadata": {},
     "output_type": "execute_result"
    }
   ],
   "source": [
    "games_prediction.head()"
   ]
  },
  {
   "cell_type": "code",
   "execution_count": 114,
   "metadata": {},
   "outputs": [],
   "source": [
    "games_prediction['Visitor Win%'] = 1-games_prediction['Home Win%']"
   ]
  },
  {
   "cell_type": "code",
   "execution_count": 115,
   "metadata": {},
   "outputs": [
    {
     "data": {
      "text/html": [
       "<div>\n",
       "<style scoped>\n",
       "    .dataframe tbody tr th:only-of-type {\n",
       "        vertical-align: middle;\n",
       "    }\n",
       "\n",
       "    .dataframe tbody tr th {\n",
       "        vertical-align: top;\n",
       "    }\n",
       "\n",
       "    .dataframe thead th {\n",
       "        text-align: right;\n",
       "    }\n",
       "</style>\n",
       "<table border=\"1\" class=\"dataframe\">\n",
       "  <thead>\n",
       "    <tr style=\"text-align: right;\">\n",
       "      <th></th>\n",
       "      <th>Date</th>\n",
       "      <th>Visitor</th>\n",
       "      <th>Home</th>\n",
       "      <th>Home Win%</th>\n",
       "      <th>Away Win%</th>\n",
       "      <th>Visitor Win%</th>\n",
       "    </tr>\n",
       "  </thead>\n",
       "  <tbody>\n",
       "    <tr>\n",
       "      <th>0</th>\n",
       "      <td>2019-10-02</td>\n",
       "      <td>Vancouver Canucks</td>\n",
       "      <td>Edmonton Oilers</td>\n",
       "      <td>0.507344</td>\n",
       "      <td>0.492656</td>\n",
       "      <td>0.492656</td>\n",
       "    </tr>\n",
       "    <tr>\n",
       "      <th>1</th>\n",
       "      <td>2019-10-02</td>\n",
       "      <td>Washington Capitals</td>\n",
       "      <td>St. Louis Blues</td>\n",
       "      <td>0.470332</td>\n",
       "      <td>0.529668</td>\n",
       "      <td>0.529668</td>\n",
       "    </tr>\n",
       "    <tr>\n",
       "      <th>2</th>\n",
       "      <td>2019-10-02</td>\n",
       "      <td>Ottawa Senators</td>\n",
       "      <td>Toronto Maple Leafs</td>\n",
       "      <td>0.669406</td>\n",
       "      <td>0.330594</td>\n",
       "      <td>0.330594</td>\n",
       "    </tr>\n",
       "    <tr>\n",
       "      <th>3</th>\n",
       "      <td>2019-10-02</td>\n",
       "      <td>San Jose Sharks</td>\n",
       "      <td>Vegas Golden Knights</td>\n",
       "      <td>0.477713</td>\n",
       "      <td>0.522287</td>\n",
       "      <td>0.522287</td>\n",
       "    </tr>\n",
       "    <tr>\n",
       "      <th>4</th>\n",
       "      <td>2019-10-03</td>\n",
       "      <td>Arizona Coyotes</td>\n",
       "      <td>Anaheim Ducks</td>\n",
       "      <td>0.503123</td>\n",
       "      <td>0.496877</td>\n",
       "      <td>0.496877</td>\n",
       "    </tr>\n",
       "  </tbody>\n",
       "</table>\n",
       "</div>"
      ],
      "text/plain": [
       "        Date              Visitor                  Home  Home Win%  Away Win%  \\\n",
       "0 2019-10-02    Vancouver Canucks       Edmonton Oilers   0.507344   0.492656   \n",
       "1 2019-10-02  Washington Capitals       St. Louis Blues   0.470332   0.529668   \n",
       "2 2019-10-02      Ottawa Senators   Toronto Maple Leafs   0.669406   0.330594   \n",
       "3 2019-10-02      San Jose Sharks  Vegas Golden Knights   0.477713   0.522287   \n",
       "4 2019-10-03      Arizona Coyotes         Anaheim Ducks   0.503123   0.496877   \n",
       "\n",
       "   Visitor Win%  \n",
       "0      0.492656  \n",
       "1      0.529668  \n",
       "2      0.330594  \n",
       "3      0.522287  \n",
       "4      0.496877  "
      ]
     },
     "execution_count": 115,
     "metadata": {},
     "output_type": "execute_result"
    }
   ],
   "source": [
    "games_prediction.head()"
   ]
  },
  {
   "cell_type": "code",
   "execution_count": 116,
   "metadata": {},
   "outputs": [
    {
     "ename": "KeyError",
     "evalue": "\"['Visitor Elo Rating' 'Home Elo Rating'] not found in axis\"",
     "output_type": "error",
     "traceback": [
      "\u001b[0;31m---------------------------------------------------------------------------\u001b[0m",
      "\u001b[0;31mKeyError\u001b[0m                                  Traceback (most recent call last)",
      "\u001b[0;32m<ipython-input-116-b693b7e36e0a>\u001b[0m in \u001b[0;36m<module>\u001b[0;34m\u001b[0m\n\u001b[0;32m----> 1\u001b[0;31m \u001b[0mgames_prediction\u001b[0m\u001b[0;34m.\u001b[0m\u001b[0mdrop\u001b[0m\u001b[0;34m(\u001b[0m\u001b[0;34m[\u001b[0m\u001b[0;34m'Visitor Elo Rating'\u001b[0m\u001b[0;34m,\u001b[0m\u001b[0;34m'Home Elo Rating'\u001b[0m\u001b[0;34m]\u001b[0m\u001b[0;34m,\u001b[0m \u001b[0maxis\u001b[0m \u001b[0;34m=\u001b[0m \u001b[0;36m1\u001b[0m\u001b[0;34m,\u001b[0m \u001b[0minplace\u001b[0m\u001b[0;34m=\u001b[0m\u001b[0;32mTrue\u001b[0m\u001b[0;34m)\u001b[0m\u001b[0;34m\u001b[0m\u001b[0;34m\u001b[0m\u001b[0m\n\u001b[0m",
      "\u001b[0;32m~/anaconda3/lib/python3.7/site-packages/pandas/core/frame.py\u001b[0m in \u001b[0;36mdrop\u001b[0;34m(self, labels, axis, index, columns, level, inplace, errors)\u001b[0m\n\u001b[1;32m   3938\u001b[0m                                            \u001b[0mindex\u001b[0m\u001b[0;34m=\u001b[0m\u001b[0mindex\u001b[0m\u001b[0;34m,\u001b[0m \u001b[0mcolumns\u001b[0m\u001b[0;34m=\u001b[0m\u001b[0mcolumns\u001b[0m\u001b[0;34m,\u001b[0m\u001b[0;34m\u001b[0m\u001b[0;34m\u001b[0m\u001b[0m\n\u001b[1;32m   3939\u001b[0m                                            \u001b[0mlevel\u001b[0m\u001b[0;34m=\u001b[0m\u001b[0mlevel\u001b[0m\u001b[0;34m,\u001b[0m \u001b[0minplace\u001b[0m\u001b[0;34m=\u001b[0m\u001b[0minplace\u001b[0m\u001b[0;34m,\u001b[0m\u001b[0;34m\u001b[0m\u001b[0;34m\u001b[0m\u001b[0m\n\u001b[0;32m-> 3940\u001b[0;31m                                            errors=errors)\n\u001b[0m\u001b[1;32m   3941\u001b[0m \u001b[0;34m\u001b[0m\u001b[0m\n\u001b[1;32m   3942\u001b[0m     @rewrite_axis_style_signature('mapper', [('copy', True),\n",
      "\u001b[0;32m~/anaconda3/lib/python3.7/site-packages/pandas/core/generic.py\u001b[0m in \u001b[0;36mdrop\u001b[0;34m(self, labels, axis, index, columns, level, inplace, errors)\u001b[0m\n\u001b[1;32m   3778\u001b[0m         \u001b[0;32mfor\u001b[0m \u001b[0maxis\u001b[0m\u001b[0;34m,\u001b[0m \u001b[0mlabels\u001b[0m \u001b[0;32min\u001b[0m \u001b[0maxes\u001b[0m\u001b[0;34m.\u001b[0m\u001b[0mitems\u001b[0m\u001b[0;34m(\u001b[0m\u001b[0;34m)\u001b[0m\u001b[0;34m:\u001b[0m\u001b[0;34m\u001b[0m\u001b[0;34m\u001b[0m\u001b[0m\n\u001b[1;32m   3779\u001b[0m             \u001b[0;32mif\u001b[0m \u001b[0mlabels\u001b[0m \u001b[0;32mis\u001b[0m \u001b[0;32mnot\u001b[0m \u001b[0;32mNone\u001b[0m\u001b[0;34m:\u001b[0m\u001b[0;34m\u001b[0m\u001b[0;34m\u001b[0m\u001b[0m\n\u001b[0;32m-> 3780\u001b[0;31m                 \u001b[0mobj\u001b[0m \u001b[0;34m=\u001b[0m \u001b[0mobj\u001b[0m\u001b[0;34m.\u001b[0m\u001b[0m_drop_axis\u001b[0m\u001b[0;34m(\u001b[0m\u001b[0mlabels\u001b[0m\u001b[0;34m,\u001b[0m \u001b[0maxis\u001b[0m\u001b[0;34m,\u001b[0m \u001b[0mlevel\u001b[0m\u001b[0;34m=\u001b[0m\u001b[0mlevel\u001b[0m\u001b[0;34m,\u001b[0m \u001b[0merrors\u001b[0m\u001b[0;34m=\u001b[0m\u001b[0merrors\u001b[0m\u001b[0;34m)\u001b[0m\u001b[0;34m\u001b[0m\u001b[0;34m\u001b[0m\u001b[0m\n\u001b[0m\u001b[1;32m   3781\u001b[0m \u001b[0;34m\u001b[0m\u001b[0m\n\u001b[1;32m   3782\u001b[0m         \u001b[0;32mif\u001b[0m \u001b[0minplace\u001b[0m\u001b[0;34m:\u001b[0m\u001b[0;34m\u001b[0m\u001b[0;34m\u001b[0m\u001b[0m\n",
      "\u001b[0;32m~/anaconda3/lib/python3.7/site-packages/pandas/core/generic.py\u001b[0m in \u001b[0;36m_drop_axis\u001b[0;34m(self, labels, axis, level, errors)\u001b[0m\n\u001b[1;32m   3810\u001b[0m                 \u001b[0mnew_axis\u001b[0m \u001b[0;34m=\u001b[0m \u001b[0maxis\u001b[0m\u001b[0;34m.\u001b[0m\u001b[0mdrop\u001b[0m\u001b[0;34m(\u001b[0m\u001b[0mlabels\u001b[0m\u001b[0;34m,\u001b[0m \u001b[0mlevel\u001b[0m\u001b[0;34m=\u001b[0m\u001b[0mlevel\u001b[0m\u001b[0;34m,\u001b[0m \u001b[0merrors\u001b[0m\u001b[0;34m=\u001b[0m\u001b[0merrors\u001b[0m\u001b[0;34m)\u001b[0m\u001b[0;34m\u001b[0m\u001b[0;34m\u001b[0m\u001b[0m\n\u001b[1;32m   3811\u001b[0m             \u001b[0;32melse\u001b[0m\u001b[0;34m:\u001b[0m\u001b[0;34m\u001b[0m\u001b[0;34m\u001b[0m\u001b[0m\n\u001b[0;32m-> 3812\u001b[0;31m                 \u001b[0mnew_axis\u001b[0m \u001b[0;34m=\u001b[0m \u001b[0maxis\u001b[0m\u001b[0;34m.\u001b[0m\u001b[0mdrop\u001b[0m\u001b[0;34m(\u001b[0m\u001b[0mlabels\u001b[0m\u001b[0;34m,\u001b[0m \u001b[0merrors\u001b[0m\u001b[0;34m=\u001b[0m\u001b[0merrors\u001b[0m\u001b[0;34m)\u001b[0m\u001b[0;34m\u001b[0m\u001b[0;34m\u001b[0m\u001b[0m\n\u001b[0m\u001b[1;32m   3813\u001b[0m             \u001b[0mresult\u001b[0m \u001b[0;34m=\u001b[0m \u001b[0mself\u001b[0m\u001b[0;34m.\u001b[0m\u001b[0mreindex\u001b[0m\u001b[0;34m(\u001b[0m\u001b[0;34m**\u001b[0m\u001b[0;34m{\u001b[0m\u001b[0maxis_name\u001b[0m\u001b[0;34m:\u001b[0m \u001b[0mnew_axis\u001b[0m\u001b[0;34m}\u001b[0m\u001b[0;34m)\u001b[0m\u001b[0;34m\u001b[0m\u001b[0;34m\u001b[0m\u001b[0m\n\u001b[1;32m   3814\u001b[0m \u001b[0;34m\u001b[0m\u001b[0m\n",
      "\u001b[0;32m~/anaconda3/lib/python3.7/site-packages/pandas/core/indexes/base.py\u001b[0m in \u001b[0;36mdrop\u001b[0;34m(self, labels, errors)\u001b[0m\n\u001b[1;32m   4963\u001b[0m             \u001b[0;32mif\u001b[0m \u001b[0merrors\u001b[0m \u001b[0;34m!=\u001b[0m \u001b[0;34m'ignore'\u001b[0m\u001b[0;34m:\u001b[0m\u001b[0;34m\u001b[0m\u001b[0;34m\u001b[0m\u001b[0m\n\u001b[1;32m   4964\u001b[0m                 raise KeyError(\n\u001b[0;32m-> 4965\u001b[0;31m                     '{} not found in axis'.format(labels[mask]))\n\u001b[0m\u001b[1;32m   4966\u001b[0m             \u001b[0mindexer\u001b[0m \u001b[0;34m=\u001b[0m \u001b[0mindexer\u001b[0m\u001b[0;34m[\u001b[0m\u001b[0;34m~\u001b[0m\u001b[0mmask\u001b[0m\u001b[0;34m]\u001b[0m\u001b[0;34m\u001b[0m\u001b[0;34m\u001b[0m\u001b[0m\n\u001b[1;32m   4967\u001b[0m         \u001b[0;32mreturn\u001b[0m \u001b[0mself\u001b[0m\u001b[0;34m.\u001b[0m\u001b[0mdelete\u001b[0m\u001b[0;34m(\u001b[0m\u001b[0mindexer\u001b[0m\u001b[0;34m)\u001b[0m\u001b[0;34m\u001b[0m\u001b[0;34m\u001b[0m\u001b[0m\n",
      "\u001b[0;31mKeyError\u001b[0m: \"['Visitor Elo Rating' 'Home Elo Rating'] not found in axis\""
     ]
    }
   ],
   "source": [
    "games_prediction.drop(['Visitor Elo Rating','Home Elo Rating'], axis = 1, inplace=True)"
   ]
  },
  {
   "cell_type": "code",
   "execution_count": 117,
   "metadata": {},
   "outputs": [],
   "source": [
    "games_prediction = games_prediction[['Date', 'Visitor', 'Visitor Win%','Home','Home Win%']]"
   ]
  },
  {
   "cell_type": "code",
   "execution_count": 119,
   "metadata": {},
   "outputs": [
    {
     "data": {
      "text/html": [
       "<div>\n",
       "<style scoped>\n",
       "    .dataframe tbody tr th:only-of-type {\n",
       "        vertical-align: middle;\n",
       "    }\n",
       "\n",
       "    .dataframe tbody tr th {\n",
       "        vertical-align: top;\n",
       "    }\n",
       "\n",
       "    .dataframe thead th {\n",
       "        text-align: right;\n",
       "    }\n",
       "</style>\n",
       "<table border=\"1\" class=\"dataframe\">\n",
       "  <thead>\n",
       "    <tr style=\"text-align: right;\">\n",
       "      <th></th>\n",
       "      <th>Date</th>\n",
       "      <th>Visitor</th>\n",
       "      <th>Visitor Win%</th>\n",
       "      <th>Home</th>\n",
       "      <th>Home Win%</th>\n",
       "    </tr>\n",
       "  </thead>\n",
       "  <tbody>\n",
       "    <tr>\n",
       "      <th>0</th>\n",
       "      <td>2019-10-02</td>\n",
       "      <td>Vancouver Canucks</td>\n",
       "      <td>0.492656</td>\n",
       "      <td>Edmonton Oilers</td>\n",
       "      <td>0.507344</td>\n",
       "    </tr>\n",
       "    <tr>\n",
       "      <th>1</th>\n",
       "      <td>2019-10-02</td>\n",
       "      <td>Washington Capitals</td>\n",
       "      <td>0.529668</td>\n",
       "      <td>St. Louis Blues</td>\n",
       "      <td>0.470332</td>\n",
       "    </tr>\n",
       "    <tr>\n",
       "      <th>2</th>\n",
       "      <td>2019-10-02</td>\n",
       "      <td>Ottawa Senators</td>\n",
       "      <td>0.330594</td>\n",
       "      <td>Toronto Maple Leafs</td>\n",
       "      <td>0.669406</td>\n",
       "    </tr>\n",
       "    <tr>\n",
       "      <th>3</th>\n",
       "      <td>2019-10-02</td>\n",
       "      <td>San Jose Sharks</td>\n",
       "      <td>0.522287</td>\n",
       "      <td>Vegas Golden Knights</td>\n",
       "      <td>0.477713</td>\n",
       "    </tr>\n",
       "    <tr>\n",
       "      <th>4</th>\n",
       "      <td>2019-10-03</td>\n",
       "      <td>Arizona Coyotes</td>\n",
       "      <td>0.496877</td>\n",
       "      <td>Anaheim Ducks</td>\n",
       "      <td>0.503123</td>\n",
       "    </tr>\n",
       "    <tr>\n",
       "      <th>5</th>\n",
       "      <td>2019-10-03</td>\n",
       "      <td>Montreal Canadiens</td>\n",
       "      <td>0.445259</td>\n",
       "      <td>Carolina Hurricanes</td>\n",
       "      <td>0.554741</td>\n",
       "    </tr>\n",
       "    <tr>\n",
       "      <th>6</th>\n",
       "      <td>2019-10-03</td>\n",
       "      <td>Calgary Flames</td>\n",
       "      <td>0.567630</td>\n",
       "      <td>Colorado Avalanche</td>\n",
       "      <td>0.432370</td>\n",
       "    </tr>\n",
       "    <tr>\n",
       "      <th>7</th>\n",
       "      <td>2019-10-03</td>\n",
       "      <td>Boston Bruins</td>\n",
       "      <td>0.579184</td>\n",
       "      <td>Dallas Stars</td>\n",
       "      <td>0.420816</td>\n",
       "    </tr>\n",
       "    <tr>\n",
       "      <th>8</th>\n",
       "      <td>2019-10-03</td>\n",
       "      <td>Minnesota Wild</td>\n",
       "      <td>0.389811</td>\n",
       "      <td>Nashville Predators</td>\n",
       "      <td>0.610189</td>\n",
       "    </tr>\n",
       "    <tr>\n",
       "      <th>9</th>\n",
       "      <td>2019-10-03</td>\n",
       "      <td>Winnipeg Jets</td>\n",
       "      <td>0.674993</td>\n",
       "      <td>New York Rangers</td>\n",
       "      <td>0.325007</td>\n",
       "    </tr>\n",
       "    <tr>\n",
       "      <th>10</th>\n",
       "      <td>2019-10-03</td>\n",
       "      <td>Buffalo Sabres</td>\n",
       "      <td>0.320197</td>\n",
       "      <td>Pittsburgh Penguins</td>\n",
       "      <td>0.679803</td>\n",
       "    </tr>\n",
       "  </tbody>\n",
       "</table>\n",
       "</div>"
      ],
      "text/plain": [
       "         Date              Visitor  Visitor Win%                  Home  \\\n",
       "0  2019-10-02    Vancouver Canucks      0.492656       Edmonton Oilers   \n",
       "1  2019-10-02  Washington Capitals      0.529668       St. Louis Blues   \n",
       "2  2019-10-02      Ottawa Senators      0.330594   Toronto Maple Leafs   \n",
       "3  2019-10-02      San Jose Sharks      0.522287  Vegas Golden Knights   \n",
       "4  2019-10-03      Arizona Coyotes      0.496877         Anaheim Ducks   \n",
       "5  2019-10-03   Montreal Canadiens      0.445259   Carolina Hurricanes   \n",
       "6  2019-10-03       Calgary Flames      0.567630    Colorado Avalanche   \n",
       "7  2019-10-03        Boston Bruins      0.579184          Dallas Stars   \n",
       "8  2019-10-03       Minnesota Wild      0.389811   Nashville Predators   \n",
       "9  2019-10-03        Winnipeg Jets      0.674993      New York Rangers   \n",
       "10 2019-10-03       Buffalo Sabres      0.320197   Pittsburgh Penguins   \n",
       "\n",
       "    Home Win%  \n",
       "0    0.507344  \n",
       "1    0.470332  \n",
       "2    0.669406  \n",
       "3    0.477713  \n",
       "4    0.503123  \n",
       "5    0.554741  \n",
       "6    0.432370  \n",
       "7    0.420816  \n",
       "8    0.610189  \n",
       "9    0.325007  \n",
       "10   0.679803  "
      ]
     },
     "execution_count": 119,
     "metadata": {},
     "output_type": "execute_result"
    }
   ],
   "source": [
    "games_prediction"
   ]
  },
  {
   "cell_type": "code",
   "execution_count": null,
   "metadata": {},
   "outputs": [],
   "source": []
  }
 ],
 "metadata": {
  "kernelspec": {
   "display_name": "Python 3",
   "language": "python",
   "name": "python3"
  },
  "language_info": {
   "codemirror_mode": {
    "name": "ipython",
    "version": 3
   },
   "file_extension": ".py",
   "mimetype": "text/x-python",
   "name": "python",
   "nbconvert_exporter": "python",
   "pygments_lexer": "ipython3",
   "version": "3.7.3"
  }
 },
 "nbformat": 4,
 "nbformat_minor": 2
}
