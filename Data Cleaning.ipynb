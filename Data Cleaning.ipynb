{
 "cells": [
  {
   "cell_type": "code",
   "execution_count": 4,
   "metadata": {},
   "outputs": [],
   "source": [
    "import pandas as pd"
   ]
  },
  {
   "cell_type": "code",
   "execution_count": 48,
   "metadata": {},
   "outputs": [
    {
     "name": "stdout",
     "output_type": "stream",
     "text": [
      "2000 scraped\n",
      "2001 scraped\n",
      "2002 scraped\n",
      "2003 scraped\n",
      "2004 scraped\n",
      "2005 was the lockout\n",
      "2006 scraped\n",
      "2007 scraped\n",
      "2008 scraped\n",
      "2009 scraped\n",
      "2010 scraped\n",
      "2011 scraped\n",
      "2012 scraped\n",
      "2013 scraped\n",
      "2014 scraped\n",
      "2015 scraped\n",
      "2016 scraped\n",
      "2017 scraped\n",
      "2018 scraped\n"
     ]
    }
   ],
   "source": [
    "df_lists = pd.DataFrame()\n",
    "start_year= 2000\n",
    "end_year = 2018\n",
    "\n",
    "#scrapes data from hockeyreference.com\n",
    "for year in range (start_year,end_year+1):\n",
    "    k=1\n",
    "\n",
    "    # 2005 was the lockout so there is no data to be scraped\n",
    "    if year == 2005:\n",
    "        print(\"2005 was the lockout\")\n",
    "\n",
    "    else:\n",
    "        url = r'https://www.hockey-reference.com/leagues/NHL_' + str(year) + r'_games.html' \n",
    "\n",
    "        df_temp_reg = pd.DataFrame(pd.read_html(url)[0])\n",
    "        df_temp_reg['season'] = year\n",
    "\n",
    "    # use commented out code if playoff data is desired\n",
    "\n",
    "        try:\n",
    "            df_temp_post = pd.DataFrame(pd.read_html(url)[1])\n",
    "            df_temp_post['season'] = year\n",
    "\n",
    "        except IndexError as e:\n",
    "            k = 0\n",
    "            print('no playoffs available yet')\n",
    "        \n",
    "        print (str(year) + \" scraped\")\n",
    "\n",
    "    df_lists = df_lists.append(df_temp_reg)\n",
    "\n",
    "    if k == 1:\n",
    "        df_lists.append(df_temp_post)"
   ]
  },
  {
   "cell_type": "code",
   "execution_count": 49,
   "metadata": {},
   "outputs": [
    {
     "data": {
      "text/plain": [
       "Index(['Date', 'Visitor', 'G', 'Home', 'G.1', 'Unnamed: 5', 'Att.', 'LOG',\n",
       "       'Notes', 'season'],\n",
       "      dtype='object')"
      ]
     },
     "execution_count": 49,
     "metadata": {},
     "output_type": "execute_result"
    }
   ],
   "source": [
    "df_lists.columns"
   ]
  },
  {
   "cell_type": "code",
   "execution_count": 50,
   "metadata": {},
   "outputs": [
    {
     "data": {
      "text/plain": [
       "(22823, 10)"
      ]
     },
     "execution_count": 50,
     "metadata": {},
     "output_type": "execute_result"
    }
   ],
   "source": [
    "df_lists.shape"
   ]
  },
  {
   "cell_type": "code",
   "execution_count": 60,
   "metadata": {},
   "outputs": [
    {
     "data": {
      "text/plain": [
       "array(['Dallas Stars', 'Edmonton Oilers', 'Atlanta Thrashers',\n",
       "       'Boston Bruins', 'Detroit Red Wings', 'Florida Panthers',\n",
       "       'Montreal Canadiens', 'Nashville Predators', 'Philadelphia Flyers',\n",
       "       'San Jose Sharks', 'St. Louis Blues', 'Tampa Bay Lightning',\n",
       "       'Vancouver Canucks', 'Toronto Maple Leafs', 'New York Rangers',\n",
       "       'Phoenix Coyotes', 'Calgary Flames', 'New Jersey Devils',\n",
       "       'Ottawa Senators', 'Buffalo Sabres', 'Chicago Blackhawks',\n",
       "       'Mighty Ducks of Anaheim', 'Pittsburgh Penguins',\n",
       "       'Washington Capitals', 'New York Islanders', 'Colorado Avalanche',\n",
       "       'Los Angeles Kings', 'Carolina Hurricanes',\n",
       "       'Columbus Blue Jackets', 'Minnesota Wild', 'Anaheim Ducks',\n",
       "       'Winnipeg Jets', 'Arizona Coyotes', 'Vegas Golden Knights'],\n",
       "      dtype=object)"
      ]
     },
     "execution_count": 60,
     "metadata": {},
     "output_type": "execute_result"
    }
   ],
   "source": [
    "df_lists['Home'].unique()"
   ]
  },
  {
   "cell_type": "code",
   "execution_count": 61,
   "metadata": {},
   "outputs": [
    {
     "data": {
      "text/html": [
       "<div>\n",
       "<style scoped>\n",
       "    .dataframe tbody tr th:only-of-type {\n",
       "        vertical-align: middle;\n",
       "    }\n",
       "\n",
       "    .dataframe tbody tr th {\n",
       "        vertical-align: top;\n",
       "    }\n",
       "\n",
       "    .dataframe thead th {\n",
       "        text-align: right;\n",
       "    }\n",
       "</style>\n",
       "<table border=\"1\" class=\"dataframe\">\n",
       "  <thead>\n",
       "    <tr style=\"text-align: right;\">\n",
       "      <th></th>\n",
       "      <th>Date</th>\n",
       "      <th>Visitor</th>\n",
       "      <th>G</th>\n",
       "      <th>Home</th>\n",
       "      <th>G.1</th>\n",
       "      <th>Unnamed: 5</th>\n",
       "      <th>Att.</th>\n",
       "      <th>LOG</th>\n",
       "      <th>Notes</th>\n",
       "      <th>season</th>\n",
       "    </tr>\n",
       "  </thead>\n",
       "  <tbody>\n",
       "    <tr>\n",
       "      <th>0</th>\n",
       "      <td>1999-10-01</td>\n",
       "      <td>Pittsburgh Penguins</td>\n",
       "      <td>4.0</td>\n",
       "      <td>Dallas Stars</td>\n",
       "      <td>6.0</td>\n",
       "      <td>NaN</td>\n",
       "      <td>NaN</td>\n",
       "      <td>NaN</td>\n",
       "      <td>NaN</td>\n",
       "      <td>2000</td>\n",
       "    </tr>\n",
       "    <tr>\n",
       "      <th>1</th>\n",
       "      <td>1999-10-01</td>\n",
       "      <td>New York Rangers</td>\n",
       "      <td>1.0</td>\n",
       "      <td>Edmonton Oilers</td>\n",
       "      <td>1.0</td>\n",
       "      <td>OT</td>\n",
       "      <td>NaN</td>\n",
       "      <td>NaN</td>\n",
       "      <td>NaN</td>\n",
       "      <td>2000</td>\n",
       "    </tr>\n",
       "    <tr>\n",
       "      <th>2</th>\n",
       "      <td>1999-10-02</td>\n",
       "      <td>New Jersey Devils</td>\n",
       "      <td>4.0</td>\n",
       "      <td>Atlanta Thrashers</td>\n",
       "      <td>1.0</td>\n",
       "      <td>NaN</td>\n",
       "      <td>NaN</td>\n",
       "      <td>NaN</td>\n",
       "      <td>NaN</td>\n",
       "      <td>2000</td>\n",
       "    </tr>\n",
       "    <tr>\n",
       "      <th>3</th>\n",
       "      <td>1999-10-02</td>\n",
       "      <td>Carolina Hurricanes</td>\n",
       "      <td>3.0</td>\n",
       "      <td>Boston Bruins</td>\n",
       "      <td>1.0</td>\n",
       "      <td>NaN</td>\n",
       "      <td>NaN</td>\n",
       "      <td>NaN</td>\n",
       "      <td>NaN</td>\n",
       "      <td>2000</td>\n",
       "    </tr>\n",
       "    <tr>\n",
       "      <th>4</th>\n",
       "      <td>1999-10-02</td>\n",
       "      <td>Mighty Ducks of Anaheim</td>\n",
       "      <td>0.0</td>\n",
       "      <td>Dallas Stars</td>\n",
       "      <td>2.0</td>\n",
       "      <td>NaN</td>\n",
       "      <td>NaN</td>\n",
       "      <td>NaN</td>\n",
       "      <td>NaN</td>\n",
       "      <td>2000</td>\n",
       "    </tr>\n",
       "  </tbody>\n",
       "</table>\n",
       "</div>"
      ],
      "text/plain": [
       "         Date                  Visitor    G               Home  G.1  \\\n",
       "0  1999-10-01      Pittsburgh Penguins  4.0       Dallas Stars  6.0   \n",
       "1  1999-10-01         New York Rangers  1.0    Edmonton Oilers  1.0   \n",
       "2  1999-10-02        New Jersey Devils  4.0  Atlanta Thrashers  1.0   \n",
       "3  1999-10-02      Carolina Hurricanes  3.0      Boston Bruins  1.0   \n",
       "4  1999-10-02  Mighty Ducks of Anaheim  0.0       Dallas Stars  2.0   \n",
       "\n",
       "  Unnamed: 5  Att.  LOG Notes  season  \n",
       "0        NaN   NaN  NaN   NaN    2000  \n",
       "1         OT   NaN  NaN   NaN    2000  \n",
       "2        NaN   NaN  NaN   NaN    2000  \n",
       "3        NaN   NaN  NaN   NaN    2000  \n",
       "4        NaN   NaN  NaN   NaN    2000  "
      ]
     },
     "execution_count": 61,
     "metadata": {},
     "output_type": "execute_result"
    }
   ],
   "source": [
    "df_lists.head()"
   ]
  },
  {
   "cell_type": "code",
   "execution_count": 62,
   "metadata": {},
   "outputs": [
    {
     "data": {
      "text/html": [
       "<div>\n",
       "<style scoped>\n",
       "    .dataframe tbody tr th:only-of-type {\n",
       "        vertical-align: middle;\n",
       "    }\n",
       "\n",
       "    .dataframe tbody tr th {\n",
       "        vertical-align: top;\n",
       "    }\n",
       "\n",
       "    .dataframe thead th {\n",
       "        text-align: right;\n",
       "    }\n",
       "</style>\n",
       "<table border=\"1\" class=\"dataframe\">\n",
       "  <thead>\n",
       "    <tr style=\"text-align: right;\">\n",
       "      <th></th>\n",
       "      <th>Date</th>\n",
       "      <th>Visitor</th>\n",
       "      <th>VisitingGoals</th>\n",
       "      <th>Home</th>\n",
       "      <th>HomeGoals</th>\n",
       "      <th>OTSO</th>\n",
       "      <th>Att.</th>\n",
       "      <th>LOG</th>\n",
       "      <th>Notes</th>\n",
       "      <th>season</th>\n",
       "    </tr>\n",
       "  </thead>\n",
       "  <tbody>\n",
       "    <tr>\n",
       "      <th>0</th>\n",
       "      <td>1999-10-01</td>\n",
       "      <td>Pittsburgh Penguins</td>\n",
       "      <td>4.0</td>\n",
       "      <td>Dallas Stars</td>\n",
       "      <td>6.0</td>\n",
       "      <td>NaN</td>\n",
       "      <td>NaN</td>\n",
       "      <td>NaN</td>\n",
       "      <td>NaN</td>\n",
       "      <td>2000</td>\n",
       "    </tr>\n",
       "    <tr>\n",
       "      <th>1</th>\n",
       "      <td>1999-10-01</td>\n",
       "      <td>New York Rangers</td>\n",
       "      <td>1.0</td>\n",
       "      <td>Edmonton Oilers</td>\n",
       "      <td>1.0</td>\n",
       "      <td>OT</td>\n",
       "      <td>NaN</td>\n",
       "      <td>NaN</td>\n",
       "      <td>NaN</td>\n",
       "      <td>2000</td>\n",
       "    </tr>\n",
       "    <tr>\n",
       "      <th>2</th>\n",
       "      <td>1999-10-02</td>\n",
       "      <td>New Jersey Devils</td>\n",
       "      <td>4.0</td>\n",
       "      <td>Atlanta Thrashers</td>\n",
       "      <td>1.0</td>\n",
       "      <td>NaN</td>\n",
       "      <td>NaN</td>\n",
       "      <td>NaN</td>\n",
       "      <td>NaN</td>\n",
       "      <td>2000</td>\n",
       "    </tr>\n",
       "    <tr>\n",
       "      <th>3</th>\n",
       "      <td>1999-10-02</td>\n",
       "      <td>Carolina Hurricanes</td>\n",
       "      <td>3.0</td>\n",
       "      <td>Boston Bruins</td>\n",
       "      <td>1.0</td>\n",
       "      <td>NaN</td>\n",
       "      <td>NaN</td>\n",
       "      <td>NaN</td>\n",
       "      <td>NaN</td>\n",
       "      <td>2000</td>\n",
       "    </tr>\n",
       "    <tr>\n",
       "      <th>4</th>\n",
       "      <td>1999-10-02</td>\n",
       "      <td>Mighty Ducks of Anaheim</td>\n",
       "      <td>0.0</td>\n",
       "      <td>Dallas Stars</td>\n",
       "      <td>2.0</td>\n",
       "      <td>NaN</td>\n",
       "      <td>NaN</td>\n",
       "      <td>NaN</td>\n",
       "      <td>NaN</td>\n",
       "      <td>2000</td>\n",
       "    </tr>\n",
       "  </tbody>\n",
       "</table>\n",
       "</div>"
      ],
      "text/plain": [
       "         Date                  Visitor  VisitingGoals               Home  \\\n",
       "0  1999-10-01      Pittsburgh Penguins            4.0       Dallas Stars   \n",
       "1  1999-10-01         New York Rangers            1.0    Edmonton Oilers   \n",
       "2  1999-10-02        New Jersey Devils            4.0  Atlanta Thrashers   \n",
       "3  1999-10-02      Carolina Hurricanes            3.0      Boston Bruins   \n",
       "4  1999-10-02  Mighty Ducks of Anaheim            0.0       Dallas Stars   \n",
       "\n",
       "   HomeGoals OTSO  Att.  LOG Notes  season  \n",
       "0        6.0  NaN   NaN  NaN   NaN    2000  \n",
       "1        1.0   OT   NaN  NaN   NaN    2000  \n",
       "2        1.0  NaN   NaN  NaN   NaN    2000  \n",
       "3        1.0  NaN   NaN  NaN   NaN    2000  \n",
       "4        2.0  NaN   NaN  NaN   NaN    2000  "
      ]
     },
     "execution_count": 62,
     "metadata": {},
     "output_type": "execute_result"
    }
   ],
   "source": [
    "df_lists.rename(columns={'G':'VisitingGoals',\n",
    "                       'G.1':'HomeGoals',\n",
    "                       'Unnamed: 5':'OTSO',\n",
    "                       }, inplace = True)\n",
    "df_lists.head()"
   ]
  },
  {
   "cell_type": "code",
   "execution_count": 63,
   "metadata": {},
   "outputs": [
    {
     "data": {
      "text/plain": [
       "Date              object\n",
       "Visitor           object\n",
       "VisitingGoals    float64\n",
       "Home              object\n",
       "HomeGoals        float64\n",
       "OTSO              object\n",
       "Att.             float64\n",
       "LOG               object\n",
       "Notes             object\n",
       "season             int64\n",
       "dtype: object"
      ]
     },
     "execution_count": 63,
     "metadata": {},
     "output_type": "execute_result"
    }
   ],
   "source": [
    "df_lists.dtypes"
   ]
  },
  {
   "cell_type": "code",
   "execution_count": 64,
   "metadata": {},
   "outputs": [],
   "source": [
    "df_lists.drop(['Att.','LOG','Notes'], axis = 1, inplace=True)"
   ]
  },
  {
   "cell_type": "code",
   "execution_count": 65,
   "metadata": {},
   "outputs": [
    {
     "data": {
      "text/html": [
       "<div>\n",
       "<style scoped>\n",
       "    .dataframe tbody tr th:only-of-type {\n",
       "        vertical-align: middle;\n",
       "    }\n",
       "\n",
       "    .dataframe tbody tr th {\n",
       "        vertical-align: top;\n",
       "    }\n",
       "\n",
       "    .dataframe thead th {\n",
       "        text-align: right;\n",
       "    }\n",
       "</style>\n",
       "<table border=\"1\" class=\"dataframe\">\n",
       "  <thead>\n",
       "    <tr style=\"text-align: right;\">\n",
       "      <th></th>\n",
       "      <th>Date</th>\n",
       "      <th>Visitor</th>\n",
       "      <th>VisitingGoals</th>\n",
       "      <th>Home</th>\n",
       "      <th>HomeGoals</th>\n",
       "      <th>OTSO</th>\n",
       "      <th>season</th>\n",
       "    </tr>\n",
       "  </thead>\n",
       "  <tbody>\n",
       "    <tr>\n",
       "      <th>0</th>\n",
       "      <td>1999-10-01</td>\n",
       "      <td>Pittsburgh Penguins</td>\n",
       "      <td>4.0</td>\n",
       "      <td>Dallas Stars</td>\n",
       "      <td>6.0</td>\n",
       "      <td>NaN</td>\n",
       "      <td>2000</td>\n",
       "    </tr>\n",
       "    <tr>\n",
       "      <th>1</th>\n",
       "      <td>1999-10-01</td>\n",
       "      <td>New York Rangers</td>\n",
       "      <td>1.0</td>\n",
       "      <td>Edmonton Oilers</td>\n",
       "      <td>1.0</td>\n",
       "      <td>OT</td>\n",
       "      <td>2000</td>\n",
       "    </tr>\n",
       "    <tr>\n",
       "      <th>2</th>\n",
       "      <td>1999-10-02</td>\n",
       "      <td>New Jersey Devils</td>\n",
       "      <td>4.0</td>\n",
       "      <td>Atlanta Thrashers</td>\n",
       "      <td>1.0</td>\n",
       "      <td>NaN</td>\n",
       "      <td>2000</td>\n",
       "    </tr>\n",
       "    <tr>\n",
       "      <th>3</th>\n",
       "      <td>1999-10-02</td>\n",
       "      <td>Carolina Hurricanes</td>\n",
       "      <td>3.0</td>\n",
       "      <td>Boston Bruins</td>\n",
       "      <td>1.0</td>\n",
       "      <td>NaN</td>\n",
       "      <td>2000</td>\n",
       "    </tr>\n",
       "    <tr>\n",
       "      <th>4</th>\n",
       "      <td>1999-10-02</td>\n",
       "      <td>Mighty Ducks of Anaheim</td>\n",
       "      <td>0.0</td>\n",
       "      <td>Dallas Stars</td>\n",
       "      <td>2.0</td>\n",
       "      <td>NaN</td>\n",
       "      <td>2000</td>\n",
       "    </tr>\n",
       "  </tbody>\n",
       "</table>\n",
       "</div>"
      ],
      "text/plain": [
       "         Date                  Visitor  VisitingGoals               Home  \\\n",
       "0  1999-10-01      Pittsburgh Penguins            4.0       Dallas Stars   \n",
       "1  1999-10-01         New York Rangers            1.0    Edmonton Oilers   \n",
       "2  1999-10-02        New Jersey Devils            4.0  Atlanta Thrashers   \n",
       "3  1999-10-02      Carolina Hurricanes            3.0      Boston Bruins   \n",
       "4  1999-10-02  Mighty Ducks of Anaheim            0.0       Dallas Stars   \n",
       "\n",
       "   HomeGoals OTSO  season  \n",
       "0        6.0  NaN    2000  \n",
       "1        1.0   OT    2000  \n",
       "2        1.0  NaN    2000  \n",
       "3        1.0  NaN    2000  \n",
       "4        2.0  NaN    2000  "
      ]
     },
     "execution_count": 65,
     "metadata": {},
     "output_type": "execute_result"
    }
   ],
   "source": [
    "df_lists.head()"
   ]
  },
  {
   "cell_type": "code",
   "execution_count": 66,
   "metadata": {},
   "outputs": [
    {
     "data": {
      "text/plain": [
       "Date              object\n",
       "Visitor           object\n",
       "VisitingGoals    float64\n",
       "Home              object\n",
       "HomeGoals        float64\n",
       "OTSO              object\n",
       "season             int64\n",
       "dtype: object"
      ]
     },
     "execution_count": 66,
     "metadata": {},
     "output_type": "execute_result"
    }
   ],
   "source": [
    "df_lists.dtypes"
   ]
  },
  {
   "cell_type": "code",
   "execution_count": 67,
   "metadata": {},
   "outputs": [],
   "source": [
    "df_lists.loc[:,'Date'] = pd.to_datetime(df_lists['Date'])"
   ]
  },
  {
   "cell_type": "code",
   "execution_count": 68,
   "metadata": {},
   "outputs": [
    {
     "data": {
      "text/plain": [
       "Date             datetime64[ns]\n",
       "Visitor                  object\n",
       "VisitingGoals           float64\n",
       "Home                     object\n",
       "HomeGoals               float64\n",
       "OTSO                     object\n",
       "season                    int64\n",
       "dtype: object"
      ]
     },
     "execution_count": 68,
     "metadata": {},
     "output_type": "execute_result"
    }
   ],
   "source": [
    "df_lists.dtypes"
   ]
  },
  {
   "cell_type": "code",
   "execution_count": 69,
   "metadata": {},
   "outputs": [
    {
     "data": {
      "text/plain": [
       "array([nan, 'OT', 'SO'], dtype=object)"
      ]
     },
     "execution_count": 69,
     "metadata": {},
     "output_type": "execute_result"
    }
   ],
   "source": [
    "df_lists['OTSO'].unique()"
   ]
  },
  {
   "cell_type": "code",
   "execution_count": 75,
   "metadata": {},
   "outputs": [
    {
     "data": {
      "text/plain": [
       "array(['Dallas Stars', 'Edmonton Oilers', 'Atlanta Thrashers',\n",
       "       'Boston Bruins', 'Detroit Red Wings', 'Florida Panthers',\n",
       "       'Montreal Canadiens', 'Nashville Predators', 'Philadelphia Flyers',\n",
       "       'San Jose Sharks', 'St. Louis Blues', 'Tampa Bay Lightning',\n",
       "       'Vancouver Canucks', 'Toronto Maple Leafs', 'New York Rangers',\n",
       "       'Phoenix Coyotes', 'Calgary Flames', 'New Jersey Devils',\n",
       "       'Ottawa Senators', 'Buffalo Sabres', 'Chicago Blackhawks',\n",
       "       'Mighty Ducks of Anaheim', 'Pittsburgh Penguins',\n",
       "       'Washington Capitals', 'New York Islanders', 'Colorado Avalanche',\n",
       "       'Los Angeles Kings', 'Carolina Hurricanes',\n",
       "       'Columbus Blue Jackets', 'Minnesota Wild', 'Anaheim Ducks',\n",
       "       'Winnipeg Jets', 'Arizona Coyotes', 'Vegas Golden Knights'],\n",
       "      dtype=object)"
      ]
     },
     "execution_count": 75,
     "metadata": {},
     "output_type": "execute_result"
    }
   ],
   "source": [
    "df_lists['Home'].unique()"
   ]
  },
  {
   "cell_type": "code",
   "execution_count": 76,
   "metadata": {},
   "outputs": [],
   "source": [
    "replace_dict= {'Home':{'Atlanta Thrashers': 'Winnipeg Jets',\n",
    "                      'Mighty Ducks of Anaheim': 'Anaheim Ducks',\n",
    "                      'Phoenix Coyotes': 'Arizona Coyotes'},\n",
    "              'Visitor':{'Atlanta Thrashers': 'Winnipeg Jets',\n",
    "                      'Mighty Ducks of Anaheim': 'Anaheim Ducks',\n",
    "                      'Phoenix Coyotes': 'Arizona Coyotes'}}"
   ]
  },
  {
   "cell_type": "code",
   "execution_count": 77,
   "metadata": {},
   "outputs": [],
   "source": [
    "df_lists.replace(replace_dict,inplace=True)"
   ]
  },
  {
   "cell_type": "code",
   "execution_count": 80,
   "metadata": {},
   "outputs": [
    {
     "data": {
      "text/plain": [
       "array(['Dallas Stars', 'Edmonton Oilers', 'Winnipeg Jets',\n",
       "       'Boston Bruins', 'Detroit Red Wings', 'Florida Panthers',\n",
       "       'Montreal Canadiens', 'Nashville Predators', 'Philadelphia Flyers',\n",
       "       'San Jose Sharks', 'St. Louis Blues', 'Tampa Bay Lightning',\n",
       "       'Vancouver Canucks', 'Toronto Maple Leafs', 'New York Rangers',\n",
       "       'Arizona Coyotes', 'Calgary Flames', 'New Jersey Devils',\n",
       "       'Ottawa Senators', 'Buffalo Sabres', 'Chicago Blackhawks',\n",
       "       'Anaheim Ducks', 'Pittsburgh Penguins', 'Washington Capitals',\n",
       "       'New York Islanders', 'Colorado Avalanche', 'Los Angeles Kings',\n",
       "       'Carolina Hurricanes', 'Columbus Blue Jackets', 'Minnesota Wild',\n",
       "       'Vegas Golden Knights'], dtype=object)"
      ]
     },
     "execution_count": 80,
     "metadata": {},
     "output_type": "execute_result"
    }
   ],
   "source": [
    "df_lists['Home'].unique()"
   ]
  },
  {
   "cell_type": "code",
   "execution_count": 82,
   "metadata": {},
   "outputs": [
    {
     "data": {
      "text/html": [
       "<div>\n",
       "<style scoped>\n",
       "    .dataframe tbody tr th:only-of-type {\n",
       "        vertical-align: middle;\n",
       "    }\n",
       "\n",
       "    .dataframe tbody tr th {\n",
       "        vertical-align: top;\n",
       "    }\n",
       "\n",
       "    .dataframe thead th {\n",
       "        text-align: right;\n",
       "    }\n",
       "</style>\n",
       "<table border=\"1\" class=\"dataframe\">\n",
       "  <thead>\n",
       "    <tr style=\"text-align: right;\">\n",
       "      <th></th>\n",
       "      <th>Date</th>\n",
       "      <th>Visitor</th>\n",
       "      <th>VisitingGoals</th>\n",
       "      <th>Home</th>\n",
       "      <th>HomeGoals</th>\n",
       "      <th>OTSO</th>\n",
       "      <th>season</th>\n",
       "    </tr>\n",
       "  </thead>\n",
       "  <tbody>\n",
       "    <tr>\n",
       "      <th>0</th>\n",
       "      <td>1999-10-01</td>\n",
       "      <td>Pittsburgh Penguins</td>\n",
       "      <td>4.0</td>\n",
       "      <td>Dallas Stars</td>\n",
       "      <td>6.0</td>\n",
       "      <td>NaN</td>\n",
       "      <td>2000</td>\n",
       "    </tr>\n",
       "    <tr>\n",
       "      <th>1</th>\n",
       "      <td>1999-10-01</td>\n",
       "      <td>New York Rangers</td>\n",
       "      <td>1.0</td>\n",
       "      <td>Edmonton Oilers</td>\n",
       "      <td>1.0</td>\n",
       "      <td>OT</td>\n",
       "      <td>2000</td>\n",
       "    </tr>\n",
       "    <tr>\n",
       "      <th>2</th>\n",
       "      <td>1999-10-02</td>\n",
       "      <td>New Jersey Devils</td>\n",
       "      <td>4.0</td>\n",
       "      <td>Winnipeg Jets</td>\n",
       "      <td>1.0</td>\n",
       "      <td>NaN</td>\n",
       "      <td>2000</td>\n",
       "    </tr>\n",
       "    <tr>\n",
       "      <th>3</th>\n",
       "      <td>1999-10-02</td>\n",
       "      <td>Carolina Hurricanes</td>\n",
       "      <td>3.0</td>\n",
       "      <td>Boston Bruins</td>\n",
       "      <td>1.0</td>\n",
       "      <td>NaN</td>\n",
       "      <td>2000</td>\n",
       "    </tr>\n",
       "    <tr>\n",
       "      <th>4</th>\n",
       "      <td>1999-10-02</td>\n",
       "      <td>Anaheim Ducks</td>\n",
       "      <td>0.0</td>\n",
       "      <td>Dallas Stars</td>\n",
       "      <td>2.0</td>\n",
       "      <td>NaN</td>\n",
       "      <td>2000</td>\n",
       "    </tr>\n",
       "  </tbody>\n",
       "</table>\n",
       "</div>"
      ],
      "text/plain": [
       "        Date              Visitor  VisitingGoals             Home  HomeGoals  \\\n",
       "0 1999-10-01  Pittsburgh Penguins            4.0     Dallas Stars        6.0   \n",
       "1 1999-10-01     New York Rangers            1.0  Edmonton Oilers        1.0   \n",
       "2 1999-10-02    New Jersey Devils            4.0    Winnipeg Jets        1.0   \n",
       "3 1999-10-02  Carolina Hurricanes            3.0    Boston Bruins        1.0   \n",
       "4 1999-10-02        Anaheim Ducks            0.0     Dallas Stars        2.0   \n",
       "\n",
       "  OTSO  season  \n",
       "0  NaN    2000  \n",
       "1   OT    2000  \n",
       "2  NaN    2000  \n",
       "3  NaN    2000  \n",
       "4  NaN    2000  "
      ]
     },
     "execution_count": 82,
     "metadata": {},
     "output_type": "execute_result"
    }
   ],
   "source": [
    "df_lists.head()"
   ]
  },
  {
   "cell_type": "code",
   "execution_count": null,
   "metadata": {},
   "outputs": [],
   "source": []
  }
 ],
 "metadata": {
  "kernelspec": {
   "display_name": "Python 3",
   "language": "python",
   "name": "python3"
  },
  "language_info": {
   "codemirror_mode": {
    "name": "ipython",
    "version": 3
   },
   "file_extension": ".py",
   "mimetype": "text/x-python",
   "name": "python",
   "nbconvert_exporter": "python",
   "pygments_lexer": "ipython3",
   "version": "3.7.3"
  }
 },
 "nbformat": 4,
 "nbformat_minor": 2
}
